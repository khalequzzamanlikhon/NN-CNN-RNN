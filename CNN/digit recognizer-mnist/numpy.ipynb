{
 "cells": [
  {
   "cell_type": "markdown",
   "metadata": {},
   "source": [
    "# Step 1 : Load and preprocess data\n"
   ]
  },
  {
   "cell_type": "code",
   "execution_count": 1,
   "metadata": {},
   "outputs": [],
   "source": [
    "## import necessarty files\n",
    "import numpy as np\n",
    "import matplotlib.pyplot as plt\n",
    "import pandas as pd\n"
   ]
  },
  {
   "cell_type": "code",
   "execution_count": 2,
   "metadata": {},
   "outputs": [],
   "source": [
    "# Load data\n",
    "data = pd.read_csv('../dataset/mnist/mnist_train.csv')\n",
    "labels = data['label'].values\n",
    "images = data.drop('label', axis=1).values\n",
    "\n",
    "# Reshape images to 28x28 and normalize pixel values\n",
    "images = images.reshape(-1, 28, 28, 1) / 255.0\n",
    "\n",
    "# Split data into train and validation sets\n",
    "split_ratio = 0.8\n",
    "split_index = int(len(images) * split_ratio)\n",
    "\n",
    "train_images, val_images = images[:split_index], images[split_index:]\n",
    "train_labels, val_labels = labels[:split_index], labels[split_index:]"
   ]
  },
  {
   "cell_type": "markdown",
   "metadata": {},
   "source": [
    "## Step 2: Initialize parameters"
   ]
  },
  {
   "cell_type": "code",
   "execution_count": 3,
   "metadata": {},
   "outputs": [],
   "source": [
    "# Hyperparameters\n",
    "learning_rate = 0.001\n",
    "num_epochs = 10\n",
    "batch_size = 64\n",
    "\n",
    "# Model architecture\n",
    "num_classes = 10\n",
    "conv1_filters = 16\n",
    "conv2_filters = 32\n",
    "fc1_units = 128\n",
    "\n",
    "# Initialize weights and biases\n",
    "np.random.seed(42)\n",
    "conv1_weights = np.random.randn(3, 3, 1, conv1_filters) * 0.01\n",
    "conv1_bias = np.zeros((1, 1, 1, conv1_filters))\n",
    "conv2_weights = np.random.randn(3, 3, conv1_filters, conv2_filters) * 0.01\n",
    "conv2_bias = np.zeros((1, 1, 1, conv2_filters))\n",
    "fc1_weights = np.random.randn(7 * 7 * conv2_filters, fc1_units) * 0.01\n",
    "fc1_bias = np.zeros((1, fc1_units))\n",
    "output_weights = np.random.randn(fc1_units, num_classes) * 0.01\n",
    "output_bias = np.zeros((1, num_classes))\n"
   ]
  },
  {
   "cell_type": "markdown",
   "metadata": {},
   "source": [
    "train data contains 60000 examples, each column represents a feature. in this case the pixel values. but the column 1 represents the label of each example."
   ]
  },
  {
   "cell_type": "code",
   "execution_count": 7,
   "metadata": {},
   "outputs": [],
   "source": [
    "# spliting the dataset for train and validation set\n",
    "#validation set\n",
    "data_val=train_data[:1000].T\n",
    "X_val=data_val[1:n] #discarding 0 column which contains labels\n",
    "X_val=np.asfarray(X_val)\n",
    "X_val/=255.0 # normalize data to train faster\n",
    "Y_val=data_val[0]\n",
    "\n",
    "#training set\n",
    "data_train=train_data[1000:m].T\n",
    "X_train=data_train[1:n]\n",
    "X_train=np.asfarray(X_train)\n",
    "Y_train=data_train[0]\n",
    "X_train/=255"
   ]
  },
  {
   "cell_type": "code",
   "execution_count": 8,
   "metadata": {},
   "outputs": [],
   "source": [
    "def ReLU(Z):\n",
    "    return np.maximum(Z, 0)"
   ]
  },
  {
   "cell_type": "code",
   "execution_count": 9,
   "metadata": {},
   "outputs": [],
   "source": [
    "def softmax(Z):\n",
    "    A = np.exp(Z) / sum(np.exp(Z))\n",
    "    return A"
   ]
  },
  {
   "cell_type": "code",
   "execution_count": 12,
   "metadata": {},
   "outputs": [],
   "source": [
    "def conv2d(X,W,b):\n",
    "    return np.sum(X*W)+b"
   ]
  },
  {
   "cell_type": "code",
   "execution_count": 13,
   "metadata": {},
   "outputs": [],
   "source": [
    "def max_pooling(X, pool_size):\n",
    "    height, width = X.shape\n",
    "    new_height = height // pool_size\n",
    "    new_width = width // pool_size\n",
    "    pooled = np.zeros((new_height, new_width))\n",
    "    for i in range(new_height):\n",
    "        for j in range(new_width):\n",
    "            pooled[i, j] = np.max(X[i * pool_size : (i + 1) * pool_size, j * pool_size : (j + 1) * pool_size])\n",
    "    return pooled"
   ]
  },
  {
   "cell_type": "code",
   "execution_count": 10,
   "metadata": {},
   "outputs": [],
   "source": [
    "# Initialize CNN parameters\n",
    "num_filters1 = 16\n",
    "filter_size1 = 3\n",
    "num_filters2 = 32\n",
    "filter_size2 = 3\n",
    "pool_size = 2\n",
    "num_fc_units = 128\n",
    "num_classes = 10\n"
   ]
  },
  {
   "cell_type": "code",
   "execution_count": 11,
   "metadata": {},
   "outputs": [],
   "source": [
    "#initializing parameters\n",
    "def init_params():\n",
    "    W_conv1 = np.random.randn(num_filters1, filter_size1, filter_size1, 1) * 0.01\n",
    "    b_conv1 = np.zeros((num_filters1, 1))\n",
    "\n",
    "    W_conv2 = np.random.randn(num_filters2, filter_size2, filter_size2, num_filters1) * 0.01\n",
    "    b_conv2 = np.zeros((num_filters2, 1))\n",
    "\n",
    "    W_fc1 = np.random.randn(num_fc_units, 7 * 7 * num_filters2) * 0.01\n",
    "    b_fc1 = np.zeros((num_fc_units, 1))\n",
    "\n",
    "    W_fc2 = np.random.randn(num_classes, num_fc_units) * 0.01\n",
    "    b_fc2 = np.zeros((num_classes, 1))\n"
   ]
  },
  {
   "cell_type": "code",
   "execution_count": null,
   "metadata": {},
   "outputs": [],
   "source": [
    "#training loop\n",
    "learning_rate=.001\n",
    "num_epochs=10\n",
    "batch_size=100\n",
    "for epoch in range(num_epochs):\n",
    "    for i in range(0, len(X_train), batch_size):\n",
    "        X_batch = X_train[i:i+batch_size]\n",
    "        Y_batch = Y_train[i:i+batch_size]\n",
    "\n",
    "        # Forward pass\n",
    "        conv1_out = np.zeros((num_filters1, 28, 28))\n",
    "        for f in range(num_filters1):\n",
    "            for j in range(28 - filter_size1 + 1):\n",
    "                for k in range(28 - filter_size1 + 1):\n",
    "                    conv1_out[f, j, k] = np.sum(X_batch[:, j:j+filter_size1, k:k+filter_size1] * W_conv1[f]) + b_conv1[f]\n",
    "\n",
    "        relu1_out = ReLU(conv1_out)\n",
    "        conv2_out = np.zeros((num_filters2, 26, 26))\n",
    "        for f in range(num_filters2):\n",
    "            for j in range(26 - filter_size2 + 1):\n",
    "                for k in range(26 - filter_size2 + 1):\n",
    "                    conv2_out[f, j, k] = np.sum(relu1_out[:, j:j+filter_size2, k:k+filter_size2] * W_conv2[f]) + b_conv2[f]\n",
    "\n",
    "        relu2_out =ReLU(conv2_out)\n",
    "        pooled_out = np.zeros((num_filters2, 13, 13))\n",
    "        for f in range(num_filters2):\n",
    "            pooled_out[f] = max_pooling(relu2_out[f], pool_size)\n",
    "\n",
    "        fc_in = pooled_out.reshape(-1, 13 * 13 * num_filters2)\n",
    "        fc1_out =ReLU(np.dot(W_fc1, fc_in.T) + b_fc1)\n",
    "        scores = np.dot(W_fc2, fc1_out) + b_fc2\n",
    "        probs = softmax(scores)\n",
    "\n",
    "        # Backpropagation (same as previous code)\n",
    "        # ...\n",
    "        dscores = probs\n",
    "        dscores[range(batch_size), Y_batch] -= 1\n",
    "        dscores /= batch_size\n",
    "\n",
    "        dW_out = np.dot(dscores, fc_out.T)\n",
    "        db_out = np.sum(dscores, axis=1, keepdims=True)\n",
    "\n",
    "        dfc_out = np.dot(W_out.T, dscores)\n",
    "        dfc_out[fc_out <= 0] = 0\n",
    "\n",
    "        dpool = np.dot(W_fc.T, dfc_out)\n",
    "        dpool = dpool.reshape(pooled_out.shape)\n",
    "\n",
    "        drelu = dpool\n",
    "        drelu[relu_out <= 0] = 0\n",
    "\n",
    "        dconv = np.zeros(conv_out.shape)\n",
    "        for f in range(num_filters):\n",
    "            for j in range(28 - filter_size + 1):\n",
    "                for k in range(28 - filter_size + 1):\n",
    "                    dconv[f, j, k] = np.sum(drelu[f, j:j+filter_size, k:k+filter_size] * X_batch[:, j:j+filter_size, k:k+filter_size])\n",
    "\n",
    "        dW_conv = np.zeros(W_conv.shape)\n",
    "        db_conv = np.zeros(b_conv.shape)\n",
    "        for f in range(num_filters):\n",
    "            dW_conv[f] = np.sum(dconv[f] / batch_size)\n",
    "            db_conv[f] = np.sum(dconv[f] / batch_size)\n",
    "        # Update parameters (same as previous code)\n",
    "        # Update parameters\n",
    "        W_out -= learning_rate * dW_out\n",
    "        b_out -= learning_rate * db_out\n",
    "        W_fc -= learning_rate * dW_fc\n",
    "        b_fc -= learning_rate * db_fc\n",
    "        W_conv -= learning_rate * dW_conv\n",
    "        b_conv -= learning_rate * db_conv\n",
    "\n",
    "\n",
    "    print(\"Epoch %d completed\" % (epoch + 1))\n",
    "\n",
    "print(\"Training finished\")"
   ]
  }
 ],
 "metadata": {
  "kernelspec": {
   "display_name": "Python 3",
   "language": "python",
   "name": "python3"
  },
  "language_info": {
   "codemirror_mode": {
    "name": "ipython",
    "version": 3
   },
   "file_extension": ".py",
   "mimetype": "text/x-python",
   "name": "python",
   "nbconvert_exporter": "python",
   "pygments_lexer": "ipython3",
   "version": "3.11.3"
  },
  "orig_nbformat": 4
 },
 "nbformat": 4,
 "nbformat_minor": 2
}
