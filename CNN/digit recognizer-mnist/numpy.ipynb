{
 "cells": [
  {
   "cell_type": "code",
   "execution_count": 29,
   "metadata": {},
   "outputs": [],
   "source": [
    "import numpy as np\n",
    "import pandas as pd\n",
    "from matplotlib import pyplot as plt"
   ]
  },
  {
   "cell_type": "code",
   "execution_count": 30,
   "metadata": {},
   "outputs": [],
   "source": [
    "#data load\n",
    "train_data=np.loadtxt(\"../dataset/mnist/mnist_train.csv\",delimiter=\",\",skiprows=1)\n",
    "test_data=np.loadtxt(\"../dataset/mnist/mnist_test.csv\",delimiter=\",\",skiprows=1)\n"
   ]
  },
  {
   "cell_type": "code",
   "execution_count": 31,
   "metadata": {},
   "outputs": [],
   "source": [
    "train_labels = train_data[:, 0]\n",
    "train_images = train_data[:, 1:]\n",
    "test_images = test_data\n",
    "\n",
    "train_images = train_images.reshape(-1, 28, 28, 1) / 255.0\n",
    "# test_images = test_images.reshape(-1, 28, 28, 1) / 255.0"
   ]
  },
  {
   "cell_type": "code",
   "execution_count": 32,
   "metadata": {},
   "outputs": [],
   "source": [
    "# CNN architecture\n",
    "class CNN:\n",
    "    def __init__(self):\n",
    "        self.conv1 = ConvolutionalLayer(num_filters=32, filter_size=5)\n",
    "        self.pool1 = MaxPoolingLayer(pool_size=2)\n",
    "        self.conv2 = ConvolutionalLayer(num_filters=64, filter_size=5)\n",
    "        self.pool2 = MaxPoolingLayer(pool_size=2)\n",
    "        self.fc1 = FullyConnectedLayer(input_size=64 * 7 * 7, output_size=1024)\n",
    "        self.fc2 = FullyConnectedLayer(input_size=1024, output_size=10)\n",
    "\n",
    "    def forward(self, input_data):\n",
    "        conv1_output = self.conv1.apply(input_data)\n",
    "        pool1_output = self.pool1.apply(conv1_output)\n",
    "        conv2_output = self.conv2.apply(pool1_output)\n",
    "        pool2_output = self.pool2.apply(conv2_output)\n",
    "        fc_input = pool2_output.reshape(-1, 64 * 7 * 7)\n",
    "        fc1_output = self.fc1.apply(fc_input)\n",
    "        self.output = self.fc2.apply(fc1_output)\n",
    "\n",
    "    def backward(self, labels):\n",
    "        d_output = self.output\n",
    "        d_output[range(len(labels)), labels] -= 1\n",
    "        d_fc2 = self.fc2.backward(d_output)\n",
    "        d_fc1 = self.fc1.backward(d_fc2)\n",
    "        d_fc1 = d_fc1.reshape(-1, 7, 7, 64)\n",
    "        d_pool2 = self.pool2.backward(d_fc1)\n",
    "        d_conv2 = self.conv2.backward(d_pool2)\n",
    "        d_pool1 = self.pool1.backward(d_conv2)\n",
    "        d_conv1 = self.conv1.backward(d_pool1)\n",
    "\n",
    "    def update_params(self, learning_rate):\n",
    "        self.fc2.update_params(learning_rate)\n",
    "        self.fc1.update_params(learning_rate)\n",
    "        self.conv2.update_params(learning_rate)\n",
    "        self.conv1.update_params(learning_rate)\n"
   ]
  },
  {
   "cell_type": "code",
   "execution_count": 43,
   "metadata": {},
   "outputs": [],
   "source": [
    "class ConvolutionalLayer:\n",
    "    def __init__(self, num_filters, filter_size):\n",
    "        self.num_filters = num_filters\n",
    "        self.filter_size = filter_size\n",
    "        self.filters = np.random.randn(num_filters, filter_size, filter_size) / np.sqrt(filter_size * filter_size)\n",
    "\n",
    "    def apply(self, image):\n",
    "        self.last_input = image\n",
    "        image_height, image_width, num_channels = image.shape  # Use three values from image.shape\n",
    "        output = np.zeros((image_height - self.filter_size + 1, image_width - self.filter_size + 1, self.num_filters))\n",
    "        for f in range(self.num_filters):\n",
    "            for row in range(image_height - self.filter_size + 1):\n",
    "                for col in range(image_width - self.filter_size + 1):\n",
    "                    output[row, col, f] = np.sum(image[row:row + self.filter_size, col:col + self.filter_size] * self.filters[f])\n",
    "        return output\n",
    "        \n",
    "    def backward(self, d_output):\n",
    "        d_filters = np.zeros_like(self.filters)\n",
    "        image_height, image_width = self.last_input.shape\n",
    "        for f in range(self.num_filters):\n",
    "            for row in range(image_height - self.filter_size + 1):\n",
    "                for col in range(image_width - self.filter_size + 1):\n",
    "                    d_filters[f] += d_output[row, col, f] * self.last_input[row:row + self.filter_size, col:col + self.filter_size]\n",
    "        self.filters -= learning_rate * d_filters\n",
    "        return np.zeros_like(self.last_input)\n",
    "\n",
    "    def update_params(self, learning_rate):\n",
    "        pass  # No parameters to update"
   ]
  },
  {
   "cell_type": "code",
   "execution_count": 44,
   "metadata": {},
   "outputs": [],
   "source": [
    "class MaxPoolingLayer:\n",
    "    def __init__(self, pool_size):\n",
    "        self.pool_size = pool_size\n",
    "\n",
    "    def apply(self, image):\n",
    "        self.last_input = image\n",
    "        image_height, image_width, num_channels = image.shape\n",
    "        new_height = image_height // self.pool_size\n",
    "        new_width = image_width // self.pool_size\n",
    "        output = np.zeros((new_height, new_width, num_channels))\n",
    "        for ch in range(num_channels):\n",
    "            for row in range(new_height):\n",
    "                for col in range(new_width):\n",
    "                    output[row, col, ch] = np.max(image[row * self.pool_size:(row + 1) * self.pool_size,\n",
    "                                                       col * self.pool_size:(col + 1) * self.pool_size, ch])\n",
    "        return output\n",
    "\n",
    "    def backward(self, d_output):\n",
    "        return np.repeat(np.repeat(d_output, self.pool_size, axis=0), self.pool_size, axis=1)"
   ]
  },
  {
   "cell_type": "code",
   "execution_count": 45,
   "metadata": {},
   "outputs": [],
   "source": [
    "class FullyConnectedLayer:\n",
    "    def __init__(self, input_size, output_size):\n",
    "        self.weights = np.random.randn(output_size, input_size) * np.sqrt(2 / (input_size + output_size))\n",
    "        self.biases = np.zeros(output_size)\n",
    "\n",
    "    def apply(self, input_data):\n",
    "        self.last_input = input_data\n",
    "        return np.dot(self.weights, input_data) + self.biases\n",
    "\n",
    "    def backward(self, d_output):\n",
    "        d_weights = np.outer(d_output, self.last_input)\n",
    "        d_input = np.dot(self.weights.T, d_output)\n",
    "        self.weights -= learning_rate * d_weights\n",
    "        self.biases -= learning_rate * d_output\n",
    "        return d_input\n",
    "\n",
    "    def update_params(self, learning_rate):\n",
    "        pass  # Biases are updated during backward pass"
   ]
  },
  {
   "cell_type": "code",
   "execution_count": 46,
   "metadata": {},
   "outputs": [],
   "source": [
    "# Training loop\n",
    "def train_cnn(cnn, train_images, train_labels, epochs, learning_rate):\n",
    "    for epoch in range(epochs):\n",
    "        for i in range(0, len(train_images), batch_size):\n",
    "            batch_images = train_images[i:i+batch_size]\n",
    "            batch_labels = train_labels[i:i+batch_size]\n",
    "            cnn.forward(batch_images)\n",
    "            cnn.backward(batch_labels)\n",
    "            cnn.update_params(learning_rate)\n",
    "            loss = calculate_loss(cnn.output, batch_labels)\n",
    "            print(f\"Epoch {epoch+1}, Batch {i//batch_size+1}: Loss = {loss:.4f}\")\n"
   ]
  },
  {
   "cell_type": "code",
   "execution_count": 47,
   "metadata": {},
   "outputs": [],
   "source": [
    "# Evaluation\n",
    "def evaluate_cnn(cnn, test_images, test_labels):\n",
    "    correct = 0\n",
    "    for i in range(len(test_images)):\n",
    "        cnn.forward(test_images[i:i+1])\n",
    "        prediction = np.argmax(cnn.output)\n",
    "        if prediction == test_labels[i]:\n",
    "            correct += 1\n",
    "    accuracy = correct / len(test_images)\n",
    "    print(f\"Test Accuracy: {accuracy:.4f}\")"
   ]
  },
  {
   "cell_type": "code",
   "execution_count": 48,
   "metadata": {},
   "outputs": [],
   "source": [
    "# Calculate cross-entropy loss\n",
    "def calculate_loss(predictions, labels):\n",
    "    probs = np.exp(predictions - np.max(predictions, axis=1, keepdims=True))\n",
    "    probs /= np.sum(probs, axis=1, keepdims=True)\n",
    "    correct_logprobs = -np.log(probs[range(len(labels)), labels])\n",
    "    loss = np.sum(correct_logprobs) / len(labels)\n",
    "    return loss\n"
   ]
  },
  {
   "cell_type": "code",
   "execution_count": 49,
   "metadata": {},
   "outputs": [],
   "source": [
    "# Hyperparameters\n",
    "batch_size = 64\n",
    "learning_rate = 0.001\n",
    "epochs = 10\n"
   ]
  },
  {
   "cell_type": "code",
   "execution_count": 50,
   "metadata": {},
   "outputs": [
    {
     "ename": "ValueError",
     "evalue": "too many values to unpack (expected 3)",
     "output_type": "error",
     "traceback": [
      "\u001b[1;31m---------------------------------------------------------------------------\u001b[0m",
      "\u001b[1;31mValueError\u001b[0m                                Traceback (most recent call last)",
      "Cell \u001b[1;32mIn[50], line 3\u001b[0m\n\u001b[0;32m      1\u001b[0m \u001b[39m# Create and train the CNN\u001b[39;00m\n\u001b[0;32m      2\u001b[0m cnn \u001b[39m=\u001b[39m CNN()\n\u001b[1;32m----> 3\u001b[0m train_cnn(cnn, train_images, train_labels, epochs, learning_rate)\n",
      "Cell \u001b[1;32mIn[46], line 7\u001b[0m, in \u001b[0;36mtrain_cnn\u001b[1;34m(cnn, train_images, train_labels, epochs, learning_rate)\u001b[0m\n\u001b[0;32m      5\u001b[0m batch_images \u001b[39m=\u001b[39m train_images[i:i\u001b[39m+\u001b[39mbatch_size]\n\u001b[0;32m      6\u001b[0m batch_labels \u001b[39m=\u001b[39m train_labels[i:i\u001b[39m+\u001b[39mbatch_size]\n\u001b[1;32m----> 7\u001b[0m cnn\u001b[39m.\u001b[39;49mforward(batch_images)\n\u001b[0;32m      8\u001b[0m cnn\u001b[39m.\u001b[39mbackward(batch_labels)\n\u001b[0;32m      9\u001b[0m cnn\u001b[39m.\u001b[39mupdate_params(learning_rate)\n",
      "Cell \u001b[1;32mIn[32], line 12\u001b[0m, in \u001b[0;36mCNN.forward\u001b[1;34m(self, input_data)\u001b[0m\n\u001b[0;32m     11\u001b[0m \u001b[39mdef\u001b[39;00m \u001b[39mforward\u001b[39m(\u001b[39mself\u001b[39m, input_data):\n\u001b[1;32m---> 12\u001b[0m     conv1_output \u001b[39m=\u001b[39m \u001b[39mself\u001b[39;49m\u001b[39m.\u001b[39;49mconv1\u001b[39m.\u001b[39;49mapply(input_data)\n\u001b[0;32m     13\u001b[0m     pool1_output \u001b[39m=\u001b[39m \u001b[39mself\u001b[39m\u001b[39m.\u001b[39mpool1\u001b[39m.\u001b[39mapply(conv1_output)\n\u001b[0;32m     14\u001b[0m     conv2_output \u001b[39m=\u001b[39m \u001b[39mself\u001b[39m\u001b[39m.\u001b[39mconv2\u001b[39m.\u001b[39mapply(pool1_output)\n",
      "Cell \u001b[1;32mIn[43], line 9\u001b[0m, in \u001b[0;36mConvolutionalLayer.apply\u001b[1;34m(self, image)\u001b[0m\n\u001b[0;32m      7\u001b[0m \u001b[39mdef\u001b[39;00m \u001b[39mapply\u001b[39m(\u001b[39mself\u001b[39m, image):\n\u001b[0;32m      8\u001b[0m     \u001b[39mself\u001b[39m\u001b[39m.\u001b[39mlast_input \u001b[39m=\u001b[39m image\n\u001b[1;32m----> 9\u001b[0m     image_height, image_width, num_channels \u001b[39m=\u001b[39m image\u001b[39m.\u001b[39mshape  \u001b[39m# Use three values from image.shape\u001b[39;00m\n\u001b[0;32m     10\u001b[0m     output \u001b[39m=\u001b[39m np\u001b[39m.\u001b[39mzeros((image_height \u001b[39m-\u001b[39m \u001b[39mself\u001b[39m\u001b[39m.\u001b[39mfilter_size \u001b[39m+\u001b[39m \u001b[39m1\u001b[39m, image_width \u001b[39m-\u001b[39m \u001b[39mself\u001b[39m\u001b[39m.\u001b[39mfilter_size \u001b[39m+\u001b[39m \u001b[39m1\u001b[39m, \u001b[39mself\u001b[39m\u001b[39m.\u001b[39mnum_filters))\n\u001b[0;32m     11\u001b[0m     \u001b[39mfor\u001b[39;00m f \u001b[39min\u001b[39;00m \u001b[39mrange\u001b[39m(\u001b[39mself\u001b[39m\u001b[39m.\u001b[39mnum_filters):\n",
      "\u001b[1;31mValueError\u001b[0m: too many values to unpack (expected 3)"
     ]
    }
   ],
   "source": [
    "# Create and train the CNN\n",
    "cnn = CNN()\n",
    "train_cnn(cnn, train_images, train_labels, epochs, learning_rate)"
   ]
  },
  {
   "cell_type": "code",
   "execution_count": null,
   "metadata": {},
   "outputs": [],
   "source": [
    "# Evaluate the CNN\n",
    "evaluate_cnn(cnn, test_images, test_labels)"
   ]
  },
  {
   "cell_type": "code",
   "execution_count": null,
   "metadata": {},
   "outputs": [],
   "source": []
  }
 ],
 "metadata": {
  "kernelspec": {
   "display_name": "Python 3",
   "language": "python",
   "name": "python3"
  },
  "language_info": {
   "codemirror_mode": {
    "name": "ipython",
    "version": 3
   },
   "file_extension": ".py",
   "mimetype": "text/x-python",
   "name": "python",
   "nbconvert_exporter": "python",
   "pygments_lexer": "ipython3",
   "version": "3.11.3"
  },
  "orig_nbformat": 4
 },
 "nbformat": 4,
 "nbformat_minor": 2
}
