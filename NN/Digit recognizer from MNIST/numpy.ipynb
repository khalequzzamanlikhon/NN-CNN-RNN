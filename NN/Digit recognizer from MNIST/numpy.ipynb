{
 "cells": [
  {
   "cell_type": "code",
   "execution_count": 66,
   "metadata": {},
   "outputs": [],
   "source": [
    "import numpy as np\n",
    "import pandas as pd\n",
    "from matplotlib import pyplot as plt"
   ]
  },
  {
   "cell_type": "code",
   "execution_count": 67,
   "metadata": {},
   "outputs": [],
   "source": [
    "# data load\n",
    "data=pd.read_csv(\"../dataset/mnist/mnist_train.csv\")"
   ]
  },
  {
   "cell_type": "code",
   "execution_count": 68,
   "metadata": {},
   "outputs": [
    {
     "data": {
      "text/html": [
       "<div>\n",
       "<style scoped>\n",
       "    .dataframe tbody tr th:only-of-type {\n",
       "        vertical-align: middle;\n",
       "    }\n",
       "\n",
       "    .dataframe tbody tr th {\n",
       "        vertical-align: top;\n",
       "    }\n",
       "\n",
       "    .dataframe thead th {\n",
       "        text-align: right;\n",
       "    }\n",
       "</style>\n",
       "<table border=\"1\" class=\"dataframe\">\n",
       "  <thead>\n",
       "    <tr style=\"text-align: right;\">\n",
       "      <th></th>\n",
       "      <th>label</th>\n",
       "      <th>1x1</th>\n",
       "      <th>1x2</th>\n",
       "      <th>1x3</th>\n",
       "      <th>1x4</th>\n",
       "      <th>1x5</th>\n",
       "      <th>1x6</th>\n",
       "      <th>1x7</th>\n",
       "      <th>1x8</th>\n",
       "      <th>1x9</th>\n",
       "      <th>...</th>\n",
       "      <th>28x19</th>\n",
       "      <th>28x20</th>\n",
       "      <th>28x21</th>\n",
       "      <th>28x22</th>\n",
       "      <th>28x23</th>\n",
       "      <th>28x24</th>\n",
       "      <th>28x25</th>\n",
       "      <th>28x26</th>\n",
       "      <th>28x27</th>\n",
       "      <th>28x28</th>\n",
       "    </tr>\n",
       "  </thead>\n",
       "  <tbody>\n",
       "    <tr>\n",
       "      <th>0</th>\n",
       "      <td>5</td>\n",
       "      <td>0</td>\n",
       "      <td>0</td>\n",
       "      <td>0</td>\n",
       "      <td>0</td>\n",
       "      <td>0</td>\n",
       "      <td>0</td>\n",
       "      <td>0</td>\n",
       "      <td>0</td>\n",
       "      <td>0</td>\n",
       "      <td>...</td>\n",
       "      <td>0</td>\n",
       "      <td>0</td>\n",
       "      <td>0</td>\n",
       "      <td>0</td>\n",
       "      <td>0</td>\n",
       "      <td>0</td>\n",
       "      <td>0</td>\n",
       "      <td>0</td>\n",
       "      <td>0</td>\n",
       "      <td>0</td>\n",
       "    </tr>\n",
       "    <tr>\n",
       "      <th>1</th>\n",
       "      <td>0</td>\n",
       "      <td>0</td>\n",
       "      <td>0</td>\n",
       "      <td>0</td>\n",
       "      <td>0</td>\n",
       "      <td>0</td>\n",
       "      <td>0</td>\n",
       "      <td>0</td>\n",
       "      <td>0</td>\n",
       "      <td>0</td>\n",
       "      <td>...</td>\n",
       "      <td>0</td>\n",
       "      <td>0</td>\n",
       "      <td>0</td>\n",
       "      <td>0</td>\n",
       "      <td>0</td>\n",
       "      <td>0</td>\n",
       "      <td>0</td>\n",
       "      <td>0</td>\n",
       "      <td>0</td>\n",
       "      <td>0</td>\n",
       "    </tr>\n",
       "    <tr>\n",
       "      <th>2</th>\n",
       "      <td>4</td>\n",
       "      <td>0</td>\n",
       "      <td>0</td>\n",
       "      <td>0</td>\n",
       "      <td>0</td>\n",
       "      <td>0</td>\n",
       "      <td>0</td>\n",
       "      <td>0</td>\n",
       "      <td>0</td>\n",
       "      <td>0</td>\n",
       "      <td>...</td>\n",
       "      <td>0</td>\n",
       "      <td>0</td>\n",
       "      <td>0</td>\n",
       "      <td>0</td>\n",
       "      <td>0</td>\n",
       "      <td>0</td>\n",
       "      <td>0</td>\n",
       "      <td>0</td>\n",
       "      <td>0</td>\n",
       "      <td>0</td>\n",
       "    </tr>\n",
       "  </tbody>\n",
       "</table>\n",
       "<p>3 rows × 785 columns</p>\n",
       "</div>"
      ],
      "text/plain": [
       "   label  1x1  1x2  1x3  1x4  1x5  1x6  1x7  1x8  1x9  ...  28x19  28x20  \\\n",
       "0      5    0    0    0    0    0    0    0    0    0  ...      0      0   \n",
       "1      0    0    0    0    0    0    0    0    0    0  ...      0      0   \n",
       "2      4    0    0    0    0    0    0    0    0    0  ...      0      0   \n",
       "\n",
       "   28x21  28x22  28x23  28x24  28x25  28x26  28x27  28x28  \n",
       "0      0      0      0      0      0      0      0      0  \n",
       "1      0      0      0      0      0      0      0      0  \n",
       "2      0      0      0      0      0      0      0      0  \n",
       "\n",
       "[3 rows x 785 columns]"
      ]
     },
     "execution_count": 68,
     "metadata": {},
     "output_type": "execute_result"
    }
   ],
   "source": [
    "data.head(3)"
   ]
  },
  {
   "cell_type": "code",
   "execution_count": 69,
   "metadata": {},
   "outputs": [],
   "source": [
    "data=np.array(data)\n",
    "#data=np.asfarray(data) # converting the datatype from int to float\n",
    "m,n=data.shape\n",
    "np.random.shuffle(data) "
   ]
  },
  {
   "cell_type": "code",
   "execution_count": 70,
   "metadata": {},
   "outputs": [
    {
     "name": "stdout",
     "output_type": "stream",
     "text": [
      "60000 785\n"
     ]
    }
   ],
   "source": [
    "print(m,n)"
   ]
  },
  {
   "cell_type": "markdown",
   "metadata": {},
   "source": [
    "So, the train dataset contains 60000 examples. where each row represents a training example. Now we will split the dataset into train , validation and test set. Moreover, for convenience we will transpose the datset so that each column represents a trainign example\n"
   ]
  },
  {
   "cell_type": "code",
   "execution_count": 71,
   "metadata": {},
   "outputs": [],
   "source": [
    "#validation set\n",
    "data_val=data[:1000].T\n",
    "X_val=data_val[1:n] #discarding 0 column which contains labels\n",
    "X_val=np.asfarray(X_val)\n",
    "X_val/=255.0 # normalize data to train faster\n",
    "Y_val=data_val[0]\n",
    "\n",
    "#training set\n",
    "data_train=data[1000:m].T\n",
    "X_train=data_train[1:n]\n",
    "X_train=np.asfarray(X_train)\n",
    "Y_train=data_train[0]\n",
    "X_train/=255\n",
    "\n"
   ]
  },
  {
   "cell_type": "code",
   "execution_count": 72,
   "metadata": {},
   "outputs": [
    {
     "name": "stdout",
     "output_type": "stream",
     "text": [
      "(784, 59000)\n",
      "(59000,)\n",
      "[[0. 0.]\n",
      " [0. 0.]\n",
      " [0. 0.]\n",
      " ...\n",
      " [0. 0.]\n",
      " [0. 0.]\n",
      " [0. 0.]]\n",
      "[8 3]\n"
     ]
    }
   ],
   "source": [
    "print(X_train.shape)\n",
    "print(Y_train.shape)\n",
    "print(X_train[:,:2]) #frist 2 training example\n",
    "print(Y_train[:2]) #first 2 labels"
   ]
  },
  {
   "cell_type": "markdown",
   "metadata": {},
   "source": [
    "we have our different dataset. we can now perform out training part. But for this we need to initialize our weights and biases."
   ]
  },
  {
   "cell_type": "code",
   "execution_count": 73,
   "metadata": {},
   "outputs": [],
   "source": [
    "def init_params():\n",
    "    W1 = np.random.rand(10, 784) - 0.5\n",
    "    b1 = np.random.rand(10, 1) - 0.5\n",
    "    W2 = np.random.rand(10, 10) - 0.5\n",
    "    b2 = np.random.rand(10, 1) - 0.5\n",
    "    return W1, b1, W2, b2"
   ]
  },
  {
   "cell_type": "markdown",
   "metadata": {},
   "source": [
    "we use ReLU for activation in layers except output layer and softmax functions in the output layer."
   ]
  },
  {
   "cell_type": "code",
   "execution_count": 74,
   "metadata": {},
   "outputs": [],
   "source": [
    "def ReLU(Z):\n",
    "    return np.maximum(Z, 0)"
   ]
  },
  {
   "cell_type": "code",
   "execution_count": 75,
   "metadata": {},
   "outputs": [],
   "source": [
    "def softmax(Z):\n",
    "    A = np.exp(Z) / sum(np.exp(Z))\n",
    "    return A"
   ]
  },
  {
   "cell_type": "code",
   "execution_count": 76,
   "metadata": {},
   "outputs": [],
   "source": [
    "def ReLU_deriv(Z):\n",
    "    return Z > 0"
   ]
  },
  {
   "cell_type": "markdown",
   "metadata": {},
   "source": [
    "### Forward propagation\n",
    "We are ready for forward pass"
   ]
  },
  {
   "cell_type": "code",
   "execution_count": 77,
   "metadata": {},
   "outputs": [],
   "source": [
    "def forward_prop(W1, b1, W2, b2, X):\n",
    "    Z1 = np.dot(W1,X)+ b1\n",
    "    A1 = ReLU(Z1)\n",
    "    Z2 = np.dot(W2,A1) + b2\n",
    "    A2 = softmax(Z2)\n",
    "    return Z1, A1, Z2, A2"
   ]
  },
  {
   "cell_type": "code",
   "execution_count": 78,
   "metadata": {},
   "outputs": [
    {
     "name": "stdout",
     "output_type": "stream",
     "text": [
      "[8 3 6 0 7 3 9 8 1 1]\n"
     ]
    }
   ],
   "source": [
    "print(Y_train[:10])"
   ]
  },
  {
   "cell_type": "markdown",
   "metadata": {},
   "source": [
    "Notice here that the y contains the index of true labels for each examples. For conveniece we can use One-hot-encoding. In this process we will put 1 at the true label positions and 0 at other positons."
   ]
  },
  {
   "cell_type": "code",
   "execution_count": 79,
   "metadata": {},
   "outputs": [],
   "source": [
    "def one_hot(Y):\n",
    "    one_hot_Y = np.zeros((Y.size, Y.max() + 1))  #each column represents labels, row one example\n",
    "    one_hot_Y[np.arange(Y.size), Y] = 1.0 #sets 1 at the actural label position\n",
    "    one_hot_Y = one_hot_Y.T\n",
    "    return one_hot_Y"
   ]
  },
  {
   "cell_type": "code",
   "execution_count": 80,
   "metadata": {},
   "outputs": [
    {
     "name": "stdout",
     "output_type": "stream",
     "text": [
      "[[0. 0. 0. ... 0. 0. 0.]\n",
      " [0. 0. 0. ... 1. 0. 0.]\n",
      " [0. 0. 0. ... 0. 0. 0.]\n",
      " ...\n",
      " [0. 0. 0. ... 0. 0. 0.]\n",
      " [1. 0. 0. ... 0. 0. 0.]\n",
      " [0. 0. 0. ... 0. 0. 0.]]\n"
     ]
    }
   ],
   "source": [
    "print(one_hot(Y_train))\n"
   ]
  },
  {
   "cell_type": "code",
   "execution_count": 81,
   "metadata": {},
   "outputs": [],
   "source": [
    "def backward_prop(Z1, A1, Z2, A2, W1, W2, X, Y):\n",
    "    one_hot_Y = one_hot(Y)\n",
    "    dZ2 = A2 - one_hot_Y\n",
    "    dW2 = 1 / m * dZ2.dot(A1.T)\n",
    "    db2 = 1 / m * np.sum(dZ2)\n",
    "    dZ1 = W2.T.dot(dZ2) * ReLU_deriv(Z1)\n",
    "    dW1 = 1 / m * dZ1.dot(X.T)\n",
    "    db1 = 1 / m * np.sum(dZ1)\n",
    "    return dW1, db1, dW2, db2"
   ]
  },
  {
   "cell_type": "code",
   "execution_count": 82,
   "metadata": {},
   "outputs": [],
   "source": [
    "def update_params(W1, b1, W2, b2, dW1, db1, dW2, db2, alpha):\n",
    "    W1 = W1 - alpha * dW1\n",
    "    b1 = b1 - alpha * db1    \n",
    "    W2 = W2 - alpha * dW2  \n",
    "    b2 = b2 - alpha * db2    \n",
    "    return W1, b1, W2, b2"
   ]
  },
  {
   "cell_type": "code",
   "execution_count": 83,
   "metadata": {},
   "outputs": [],
   "source": [
    "def get_predictions(A2):\n",
    "    return np.argmax(A2, 0)"
   ]
  },
  {
   "cell_type": "code",
   "execution_count": 84,
   "metadata": {},
   "outputs": [],
   "source": [
    "def get_accuracy(predictions, Y):\n",
    "    print(predictions, Y)\n",
    "    return np.sum(predictions == Y) / Y.size"
   ]
  },
  {
   "cell_type": "code",
   "execution_count": 85,
   "metadata": {},
   "outputs": [],
   "source": [
    "def gradient_descent(X, Y, alpha, iterations):\n",
    "    W1, b1, W2, b2 = init_params()\n",
    "    for i in range(iterations):\n",
    "        Z1, A1, Z2, A2 = forward_prop(W1, b1, W2, b2, X)\n",
    "        dW1, db1, dW2, db2 = backward_prop(Z1, A1, Z2, A2, W1, W2, X, Y)\n",
    "        W1, b1, W2, b2 = update_params(W1, b1, W2, b2, dW1, db1, dW2, db2, alpha)\n",
    "        if i % 10 == 0:\n",
    "            print(\"Iteration: \", i)\n",
    "            predictions = get_predictions(A2)\n",
    "            print(get_accuracy(predictions, Y))\n",
    "    return W1, b1, W2, b2"
   ]
  },
  {
   "cell_type": "code",
   "execution_count": 86,
   "metadata": {},
   "outputs": [
    {
     "name": "stdout",
     "output_type": "stream",
     "text": [
      "Iteration:  0\n",
      "[6 2 0 ... 1 6 6] [8 3 6 ... 1 3 5]\n",
      "0.052\n",
      "Iteration:  10\n",
      "[2 2 0 ... 2 6 6] [8 3 6 ... 1 3 5]\n",
      "0.11716949152542373\n",
      "Iteration:  20\n",
      "[2 2 0 ... 2 6 6] [8 3 6 ... 1 3 5]\n",
      "0.14979661016949153\n",
      "Iteration:  30\n",
      "[2 2 3 ... 2 6 6] [8 3 6 ... 1 3 5]\n",
      "0.18015254237288136\n",
      "Iteration:  40\n",
      "[2 2 6 ... 2 6 6] [8 3 6 ... 1 3 5]\n",
      "0.20710169491525424\n",
      "Iteration:  50\n",
      "[2 2 6 ... 2 6 6] [8 3 6 ... 1 3 5]\n",
      "0.23030508474576272\n",
      "Iteration:  60\n",
      "[2 2 6 ... 2 6 6] [8 3 6 ... 1 3 5]\n",
      "0.25822033898305086\n",
      "Iteration:  70\n",
      "[2 2 6 ... 2 6 6] [8 3 6 ... 1 3 5]\n",
      "0.30115254237288136\n",
      "Iteration:  80\n",
      "[2 3 6 ... 1 6 6] [8 3 6 ... 1 3 5]\n",
      "0.37130508474576274\n",
      "Iteration:  90\n",
      "[2 3 6 ... 1 6 6] [8 3 6 ... 1 3 5]\n",
      "0.4381694915254237\n",
      "Iteration:  100\n",
      "[2 3 6 ... 1 6 6] [8 3 6 ... 1 3 5]\n",
      "0.48689830508474574\n",
      "Iteration:  110\n",
      "[2 3 6 ... 1 6 6] [8 3 6 ... 1 3 5]\n",
      "0.5214067796610169\n",
      "Iteration:  120\n",
      "[2 3 6 ... 1 6 6] [8 3 6 ... 1 3 5]\n",
      "0.5496949152542373\n",
      "Iteration:  130\n",
      "[2 3 6 ... 1 6 6] [8 3 6 ... 1 3 5]\n",
      "0.5743898305084746\n",
      "Iteration:  140\n",
      "[2 3 6 ... 1 6 6] [8 3 6 ... 1 3 5]\n",
      "0.595457627118644\n",
      "Iteration:  150\n",
      "[2 3 6 ... 1 6 6] [8 3 6 ... 1 3 5]\n",
      "0.6135423728813559\n",
      "Iteration:  160\n",
      "[2 3 6 ... 1 6 6] [8 3 6 ... 1 3 5]\n",
      "0.6299322033898305\n",
      "Iteration:  170\n",
      "[2 3 6 ... 1 6 6] [8 3 6 ... 1 3 5]\n",
      "0.6442711864406779\n",
      "Iteration:  180\n",
      "[2 3 6 ... 1 6 6] [8 3 6 ... 1 3 5]\n",
      "0.656593220338983\n",
      "Iteration:  190\n",
      "[2 3 6 ... 1 6 6] [8 3 6 ... 1 3 5]\n",
      "0.6689152542372881\n",
      "Iteration:  200\n",
      "[2 3 6 ... 1 2 6] [8 3 6 ... 1 3 5]\n",
      "0.6799152542372882\n",
      "Iteration:  210\n",
      "[2 3 6 ... 1 2 6] [8 3 6 ... 1 3 5]\n",
      "0.6897966101694916\n",
      "Iteration:  220\n",
      "[2 3 6 ... 1 2 6] [8 3 6 ... 1 3 5]\n",
      "0.698677966101695\n",
      "Iteration:  230\n",
      "[2 3 6 ... 1 2 6] [8 3 6 ... 1 3 5]\n",
      "0.7069152542372882\n",
      "Iteration:  240\n",
      "[2 3 6 ... 1 2 6] [8 3 6 ... 1 3 5]\n",
      "0.7145254237288136\n",
      "Iteration:  250\n",
      "[2 3 6 ... 1 2 6] [8 3 6 ... 1 3 5]\n",
      "0.7217796610169491\n",
      "Iteration:  260\n",
      "[2 3 6 ... 1 2 6] [8 3 6 ... 1 3 5]\n",
      "0.7281864406779661\n",
      "Iteration:  270\n",
      "[2 3 6 ... 1 2 5] [8 3 6 ... 1 3 5]\n",
      "0.7345423728813559\n",
      "Iteration:  280\n",
      "[2 3 6 ... 1 2 5] [8 3 6 ... 1 3 5]\n",
      "0.7402542372881356\n",
      "Iteration:  290\n",
      "[2 3 6 ... 1 2 5] [8 3 6 ... 1 3 5]\n",
      "0.7454406779661017\n",
      "Iteration:  300\n",
      "[2 3 6 ... 1 2 5] [8 3 6 ... 1 3 5]\n",
      "0.7501186440677966\n",
      "Iteration:  310\n",
      "[2 3 6 ... 1 2 5] [8 3 6 ... 1 3 5]\n",
      "0.7549152542372881\n",
      "Iteration:  320\n",
      "[2 3 6 ... 1 2 5] [8 3 6 ... 1 3 5]\n",
      "0.7593050847457627\n",
      "Iteration:  330\n",
      "[2 3 6 ... 1 2 5] [8 3 6 ... 1 3 5]\n",
      "0.7641016949152543\n",
      "Iteration:  340\n",
      "[2 3 6 ... 1 2 5] [8 3 6 ... 1 3 5]\n",
      "0.7675762711864407\n",
      "Iteration:  350\n",
      "[2 3 6 ... 1 2 5] [8 3 6 ... 1 3 5]\n",
      "0.7721864406779662\n",
      "Iteration:  360\n",
      "[2 3 6 ... 1 2 5] [8 3 6 ... 1 3 5]\n",
      "0.7762542372881356\n",
      "Iteration:  370\n",
      "[2 3 6 ... 1 2 5] [8 3 6 ... 1 3 5]\n",
      "0.7795254237288135\n",
      "Iteration:  380\n",
      "[2 3 6 ... 1 2 5] [8 3 6 ... 1 3 5]\n",
      "0.7825084745762712\n",
      "Iteration:  390\n",
      "[2 3 6 ... 1 2 5] [8 3 6 ... 1 3 5]\n",
      "0.7854406779661017\n",
      "Iteration:  400\n",
      "[2 3 6 ... 1 2 5] [8 3 6 ... 1 3 5]\n",
      "0.7885762711864407\n",
      "Iteration:  410\n",
      "[2 3 6 ... 1 2 5] [8 3 6 ... 1 3 5]\n",
      "0.791728813559322\n",
      "Iteration:  420\n",
      "[2 3 6 ... 1 2 5] [8 3 6 ... 1 3 5]\n",
      "0.7939661016949152\n",
      "Iteration:  430\n",
      "[2 3 6 ... 1 2 5] [8 3 6 ... 1 3 5]\n",
      "0.7963898305084746\n",
      "Iteration:  440\n",
      "[2 3 6 ... 1 2 5] [8 3 6 ... 1 3 5]\n",
      "0.7989830508474576\n",
      "Iteration:  450\n",
      "[2 3 6 ... 1 2 5] [8 3 6 ... 1 3 5]\n",
      "0.8013389830508475\n",
      "Iteration:  460\n",
      "[2 3 6 ... 1 2 5] [8 3 6 ... 1 3 5]\n",
      "0.8037457627118644\n",
      "Iteration:  470\n",
      "[2 3 6 ... 1 2 5] [8 3 6 ... 1 3 5]\n",
      "0.806\n",
      "Iteration:  480\n",
      "[2 3 6 ... 1 2 5] [8 3 6 ... 1 3 5]\n",
      "0.8085423728813559\n",
      "Iteration:  490\n",
      "[2 3 6 ... 1 2 5] [8 3 6 ... 1 3 5]\n",
      "0.8107796610169492\n"
     ]
    }
   ],
   "source": [
    "W1, b1, W2, b2 = gradient_descent(X_train, Y_train, 0.10, 500)"
   ]
  },
  {
   "cell_type": "code",
   "execution_count": 87,
   "metadata": {},
   "outputs": [],
   "source": [
    "def make_predictions(X, W1, b1, W2, b2):\n",
    "    _, _, _, A2 = forward_prop(W1, b1, W2, b2, X)\n",
    "    predictions = get_predictions(A2)\n",
    "    return predictions"
   ]
  },
  {
   "cell_type": "code",
   "execution_count": 88,
   "metadata": {},
   "outputs": [],
   "source": [
    "def test_prediction(index, W1, b1, W2, b2):\n",
    "    current_image = X_train[:, index, None]\n",
    "    prediction = make_predictions(X_train[:, index, None], W1, b1, W2, b2)\n",
    "    label = Y_train[index]\n",
    "    print(\"Prediction: \", prediction)\n",
    "    print(\"Label: \", label)\n",
    "    \n",
    "    current_image = current_image.reshape((28, 28)) * 255\n",
    "    plt.gray()\n",
    "    plt.imshow(current_image, interpolation='nearest')\n",
    "    plt.show()"
   ]
  },
  {
   "cell_type": "markdown",
   "metadata": {},
   "source": [
    "let's look at couple of examples\n"
   ]
  },
  {
   "cell_type": "code",
   "execution_count": 89,
   "metadata": {},
   "outputs": [
    {
     "name": "stdout",
     "output_type": "stream",
     "text": [
      "Prediction:  [2]\n",
      "Label:  8\n"
     ]
    },
    {
     "data": {
      "image/png": "[encoded data removed]",
      "text/plain": [
       "<Figure size 640x480 with 1 Axes>"
      ]
     },
     "metadata": {},
     "output_type": "display_data"
    },
    {
     "name": "stdout",
     "output_type": "stream",
     "text": [
      "Prediction:  [3]\n",
      "Label:  3\n"
     ]
    },
    {
     "data": {
      "image/png": "[encoded data removed]",
      "text/plain": [
       "<Figure size 640x480 with 1 Axes>"
      ]
     },
     "metadata": {},
     "output_type": "display_data"
    },
    {
     "name": "stdout",
     "output_type": "stream",
     "text": [
      "Prediction:  [6]\n",
      "Label:  6\n"
     ]
    },
    {
     "data": {
      "image/png": "[encoded data removed]",
      "text/plain": [
       "<Figure size 640x480 with 1 Axes>"
      ]
     },
     "metadata": {},
     "output_type": "display_data"
    },
    {
     "name": "stdout",
     "output_type": "stream",
     "text": [
      "Prediction:  [0]\n",
      "Label:  0\n"
     ]
    },
    {
     "data": {
      "image/png": "[encoded data removed]",
      "text/plain": [
       "<Figure size 640x480 with 1 Axes>"
      ]
     },
     "metadata": {},
     "output_type": "display_data"
    }
   ],
   "source": [
    "test_prediction(0, W1, b1, W2, b2)\n",
    "test_prediction(1, W1, b1, W2, b2)\n",
    "test_prediction(2, W1, b1, W2, b2)\n",
    "test_prediction(3, W1, b1, W2, b2)"
   ]
  },
  {
   "cell_type": "markdown",
   "metadata": {},
   "source": [
    "let's find the accuracy on validation set"
   ]
  },
  {
   "cell_type": "code",
   "execution_count": 90,
   "metadata": {},
   "outputs": [
    {
     "name": "stdout",
     "output_type": "stream",
     "text": [
      "[7 2 2 0 3 9 3 0 1 2 0 4 3 8 0 8 4 1 4 9 5 6 7 9 3 1 3 7 2 7 1 3 8 7 3 2 7\n",
      " 0 6 5 0 8 4 3 8 9 6 0 4 2 8 3 9 9 1 7 0 4 2 6 3 0 1 9 7 7 2 8 9 1 4 8 2 8\n",
      " 3 1 9 7 9 1 9 6 5 1 2 6 6 4 8 1 0 8 9 8 3 8 0 5 4 5 9 6 2 7 6 2 3 6 6 8 1\n",
      " 4 3 9 6 5 3 8 2 6 1 2 5 5 6 5 1 4 3 2 1 8 1 5 9 2 1 2 5 3 1 8 1 9 5 1 4 7\n",
      " 3 7 9 9 6 0 7 7 3 4 5 1 8 2 9 2 1 2 4 4 4 5 1 0 0 3 4 1 6 6 4 5 4 7 9 1 6\n",
      " 0 1 1 7 1 3 1 6 9 0 3 6 6 3 9 2 8 2 8 5 8 0 3 7 5 7 5 2 2 1 2 3 8 8 9 6 1\n",
      " 0 4 1 3 6 7 7 6 0 9 2 5 1 3 6 9 9 9 1 7 7 3 4 0 2 4 2 3 6 8 8 5 8 2 4 0 0\n",
      " 8 9 0 2 7 0 7 9 0 3 0 7 2 9 1 2 0 1 5 5 0 8 7 3 8 1 9 3 1 1 3 3 7 0 1 8 8\n",
      " 7 0 8 9 7 4 8 5 5 3 1 8 1 1 1 7 8 8 5 1 0 3 2 4 1 9 8 9 2 3 2 1 8 1 3 3 2\n",
      " 4 6 0 0 3 2 6 4 1 4 3 1 9 7 5 2 7 8 8 1 9 3 7 7 2 8 6 2 0 2 8 0 1 5 9 3 5\n",
      " 4 1 6 3 8 5 8 1 2 9 3 4 9 2 2 3 0 7 9 7 5 6 9 4 9 9 0 9 7 0 8 7 0 0 6 0 8\n",
      " 1 3 5 0 6 4 7 2 6 0 1 8 0 5 7 9 4 9 1 2 3 3 5 1 0 6 8 8 3 3 7 2 7 8 4 9 7\n",
      " 1 3 5 3 9 7 4 3 1 1 8 8 2 6 3 2 6 0 7 3 5 4 6 8 5 6 4 1 7 0 6 3 8 7 4 4 7\n",
      " 0 8 2 0 5 6 8 8 4 3 9 8 2 1 9 6 0 7 9 5 0 7 4 0 6 1 0 4 2 0 7 2 5 7 8 7 4\n",
      " 8 5 6 6 5 3 3 5 6 8 5 3 7 9 6 2 1 0 8 7 1 8 5 2 8 3 0 1 8 3 6 5 4 7 7 8 7\n",
      " 3 0 2 0 7 2 0 0 5 1 9 1 8 0 7 1 5 9 7 1 2 4 0 7 7 2 1 5 1 0 5 9 9 1 9 0 3\n",
      " 9 7 3 2 6 5 3 0 2 1 4 4 2 6 5 2 1 3 1 5 7 1 8 3 5 7 8 4 9 4 7 7 1 0 7 5 5\n",
      " 9 0 3 9 6 7 4 7 1 6 7 7 8 9 3 3 8 9 9 3 2 1 3 8 5 9 4 3 7 7 1 3 0 0 7 9 5\n",
      " 0 4 6 9 6 2 4 3 8 1 9 5 4 5 2 5 4 8 6 1 2 6 8 9 0 3 5 6 0 0 7 1 5 4 1 2 8\n",
      " 6 5 4 9 0 8 7 6 0 8 3 1 5 9 7 4 9 5 0 4 2 7 9 5 0 9 3 1 3 8 9 8 9 0 8 5 6\n",
      " 4 1 7 4 2 3 8 5 8 1 0 0 0 9 3 9 9 4 6 5 2 5 3 2 6 4 9 3 1 5 4 1 1 2 8 8 0\n",
      " 7 7 3 8 9 6 3 7 2 1 6 1 8 0 2 3 9 8 6 8 8 7 8 6 9 1 9 7 6 9 7 1 2 8 1 6 1\n",
      " 3 8 1 4 4 2 1 5 6 4 3 7 5 4 8 0 0 6 6 1 9 3 0 1 9 0 2 4 0 2 6 6 8 4 1 8 1\n",
      " 1 8 0 5 7 9 6 2 8 8 1 6 4 6 4 2 3 1 1 3 0 3 7 9 3 9 1 5 6 0 0 8 9 3 7 4 4\n",
      " 4 8 4 2 8 1 2 8 2 1 6 3 0 9 4 9 7 1 4 6 8 9 3 3 9 6 3 2 3 5 6 4 7 7 2 0 4\n",
      " 7 9 0 0 0 3 4 1 5 4 6 2 9 3 9 7 8 4 0 0 6 8 9 1 6 7 3 0 9 8 4 1 3 4 7 2 8\n",
      " 2 0 8 1 2 3 6 5 1 9 7 4 0 1 4 7 0 8 0 9 4 1 6 1 0 8 1 7 2 4 4 1 0 3 3 0 1\n",
      " 9] [7 2 2 0 3 9 3 0 1 8 0 6 3 8 0 8 4 8 8 9 5 6 7 9 5 1 3 7 2 7 1 3 8 7 8 2 7\n",
      " 0 3 5 5 8 4 3 3 9 6 0 4 2 8 3 4 9 1 7 0 4 2 6 3 0 1 9 7 7 2 8 9 1 4 8 2 3\n",
      " 3 1 7 9 9 1 9 6 5 1 2 6 2 6 4 1 0 3 9 8 3 8 0 5 5 5 9 6 6 3 6 5 3 6 6 8 1\n",
      " 4 3 9 6 5 8 8 1 6 1 2 5 3 6 5 1 4 3 6 1 8 1 5 9 2 1 2 5 5 1 8 1 9 5 1 4 7\n",
      " 3 9 9 9 6 0 7 7 3 4 5 1 5 2 9 2 1 2 4 4 4 5 1 0 0 3 4 1 6 6 4 8 4 7 9 1 6\n",
      " 0 1 1 7 1 3 1 6 9 0 3 6 6 3 4 2 2 2 8 5 9 0 3 7 5 7 5 2 2 2 8 3 8 8 9 6 1\n",
      " 0 4 1 3 6 7 7 6 0 9 2 2 1 3 6 9 3 9 1 7 7 8 4 0 2 5 2 3 6 2 8 5 8 1 4 0 0\n",
      " 3 9 5 5 7 0 7 9 0 3 0 7 8 9 1 2 0 1 5 5 0 8 7 3 8 1 9 3 1 1 3 5 7 0 2 8 8\n",
      " 7 0 8 9 3 4 8 6 5 3 1 8 1 1 2 7 8 8 3 1 0 3 2 4 1 9 3 9 3 3 5 1 8 1 3 3 2\n",
      " 4 6 0 0 3 2 6 4 1 4 3 1 4 7 5 0 2 8 8 1 9 3 7 2 2 8 6 2 0 8 8 0 1 5 9 3 5\n",
      " 4 1 4 3 1 5 8 1 5 7 3 4 9 2 2 5 0 7 9 2 5 4 9 4 4 9 0 4 9 5 8 7 0 0 6 0 8\n",
      " 1 3 8 0 6 4 7 2 6 0 1 8 0 5 7 7 9 4 1 2 2 3 5 1 0 5 8 8 3 0 7 2 0 8 4 9 7\n",
      " 7 3 5 2 9 7 4 3 1 2 5 7 2 6 3 2 6 0 7 3 5 4 6 8 5 6 4 1 2 0 6 3 1 7 4 4 7\n",
      " 0 8 2 0 5 6 8 8 4 3 9 8 2 1 9 6 0 7 9 8 8 7 4 5 6 1 0 4 2 0 7 2 5 7 8 3 4\n",
      " 8 5 6 6 5 3 3 3 4 8 5 3 7 4 2 2 7 0 2 7 1 4 0 2 8 3 0 1 8 5 6 5 4 7 7 1 7\n",
      " 8 0 2 0 7 2 0 0 3 1 9 1 3 0 7 1 5 4 7 1 2 4 0 7 3 4 1 5 1 0 5 4 4 1 9 0 3\n",
      " 8 7 1 6 6 3 3 0 2 8 4 4 2 6 5 2 1 3 1 5 7 1 3 3 7 7 8 8 8 2 7 7 1 0 7 9 5\n",
      " 9 0 3 9 4 7 4 7 1 6 7 7 2 9 3 3 8 9 9 2 2 1 2 1 5 9 4 3 7 7 8 3 0 0 9 7 5\n",
      " 0 4 6 9 6 2 4 2 4 1 9 5 6 5 2 5 4 8 6 2 3 6 8 9 0 8 0 6 0 0 7 1 5 4 1 2 1\n",
      " 6 5 9 9 0 8 7 6 0 3 3 1 6 8 7 4 9 5 0 4 2 7 9 5 0 9 3 1 3 8 9 8 9 0 7 3 6\n",
      " 4 2 7 4 2 3 8 0 5 1 0 0 0 9 3 9 9 5 6 5 2 5 3 2 6 4 9 3 1 5 4 1 1 2 8 5 0\n",
      " 7 7 3 8 9 6 8 7 2 1 6 1 8 0 2 3 9 8 6 8 3 7 8 2 9 1 9 7 6 9 7 8 2 8 1 6 7\n",
      " 3 8 1 4 4 2 1 5 6 4 3 7 3 9 8 0 0 2 6 1 7 8 0 1 9 0 0 9 2 2 6 0 5 8 1 8 1\n",
      " 1 8 0 5 7 9 2 8 8 8 1 6 4 6 0 2 3 1 1 3 0 2 7 9 8 9 1 5 6 0 0 1 9 8 7 4 4\n",
      " 4 9 8 2 8 1 2 8 8 2 6 3 0 9 9 9 7 1 4 5 8 9 3 3 4 4 3 8 8 3 6 4 7 7 8 0 4\n",
      " 7 8 0 0 5 3 4 1 5 9 6 2 7 3 9 8 1 4 0 0 8 1 4 1 6 7 3 0 9 1 4 1 3 4 7 2 8\n",
      " 2 0 8 8 2 3 6 3 1 7 7 4 0 1 4 7 0 8 0 9 4 1 6 1 0 6 1 7 2 4 9 7 0 3 3 0 2\n",
      " 9]\n"
     ]
    },
    {
     "data": {
      "text/plain": [
       "0.804"
      ]
     },
     "execution_count": 90,
     "metadata": {},
     "output_type": "execute_result"
    }
   ],
   "source": [
    "dev_predictions = make_predictions(X_val, W1, b1, W2, b2)\n",
    "get_accuracy(dev_predictions, Y_val)"
   ]
  }
 ],
 "metadata": {
  "kernelspec": {
   "display_name": "Python 3",
   "language": "python",
   "name": "python3"
  },
  "language_info": {
   "codemirror_mode": {
    "name": "ipython",
    "version": 3
   },
   "file_extension": ".py",
   "mimetype": "text/x-python",
   "name": "python",
   "nbconvert_exporter": "python",
   "pygments_lexer": "ipython3",
   "version": "3.11.3"
  },
  "orig_nbformat": 4
 },
 "nbformat": 4,
 "nbformat_minor": 2
}
