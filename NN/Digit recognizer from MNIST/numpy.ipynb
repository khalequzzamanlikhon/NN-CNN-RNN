{
 "cells": [
  {
   "cell_type": "markdown",
   "metadata": {},
   "source": [
    "## Step-1: Load and preprocess data"
   ]
  },
  {
   "cell_type": "code",
   "execution_count": 5,
   "metadata": {},
   "outputs": [],
   "source": [
    "import numpy as np\n",
    "import pandas as pd\n",
    "from matplotlib import pyplot as plt"
   ]
  },
  {
   "cell_type": "code",
   "execution_count": 6,
   "metadata": {},
   "outputs": [],
   "source": [
    "# data load\n",
    "data=pd.read_csv(\"../dataset/mnist/mnist_train.csv\")"
   ]
  },
  {
   "cell_type": "code",
   "execution_count": 7,
   "metadata": {},
   "outputs": [
    {
     "data": {
      "text/html": [
       "<div>\n",
       "<style scoped>\n",
       "    .dataframe tbody tr th:only-of-type {\n",
       "        vertical-align: middle;\n",
       "    }\n",
       "\n",
       "    .dataframe tbody tr th {\n",
       "        vertical-align: top;\n",
       "    }\n",
       "\n",
       "    .dataframe thead th {\n",
       "        text-align: right;\n",
       "    }\n",
       "</style>\n",
       "<table border=\"1\" class=\"dataframe\">\n",
       "  <thead>\n",
       "    <tr style=\"text-align: right;\">\n",
       "      <th></th>\n",
       "      <th>label</th>\n",
       "      <th>1x1</th>\n",
       "      <th>1x2</th>\n",
       "      <th>1x3</th>\n",
       "      <th>1x4</th>\n",
       "      <th>1x5</th>\n",
       "      <th>1x6</th>\n",
       "      <th>1x7</th>\n",
       "      <th>1x8</th>\n",
       "      <th>1x9</th>\n",
       "      <th>...</th>\n",
       "      <th>28x19</th>\n",
       "      <th>28x20</th>\n",
       "      <th>28x21</th>\n",
       "      <th>28x22</th>\n",
       "      <th>28x23</th>\n",
       "      <th>28x24</th>\n",
       "      <th>28x25</th>\n",
       "      <th>28x26</th>\n",
       "      <th>28x27</th>\n",
       "      <th>28x28</th>\n",
       "    </tr>\n",
       "  </thead>\n",
       "  <tbody>\n",
       "    <tr>\n",
       "      <th>0</th>\n",
       "      <td>5</td>\n",
       "      <td>0</td>\n",
       "      <td>0</td>\n",
       "      <td>0</td>\n",
       "      <td>0</td>\n",
       "      <td>0</td>\n",
       "      <td>0</td>\n",
       "      <td>0</td>\n",
       "      <td>0</td>\n",
       "      <td>0</td>\n",
       "      <td>...</td>\n",
       "      <td>0</td>\n",
       "      <td>0</td>\n",
       "      <td>0</td>\n",
       "      <td>0</td>\n",
       "      <td>0</td>\n",
       "      <td>0</td>\n",
       "      <td>0</td>\n",
       "      <td>0</td>\n",
       "      <td>0</td>\n",
       "      <td>0</td>\n",
       "    </tr>\n",
       "    <tr>\n",
       "      <th>1</th>\n",
       "      <td>0</td>\n",
       "      <td>0</td>\n",
       "      <td>0</td>\n",
       "      <td>0</td>\n",
       "      <td>0</td>\n",
       "      <td>0</td>\n",
       "      <td>0</td>\n",
       "      <td>0</td>\n",
       "      <td>0</td>\n",
       "      <td>0</td>\n",
       "      <td>...</td>\n",
       "      <td>0</td>\n",
       "      <td>0</td>\n",
       "      <td>0</td>\n",
       "      <td>0</td>\n",
       "      <td>0</td>\n",
       "      <td>0</td>\n",
       "      <td>0</td>\n",
       "      <td>0</td>\n",
       "      <td>0</td>\n",
       "      <td>0</td>\n",
       "    </tr>\n",
       "    <tr>\n",
       "      <th>2</th>\n",
       "      <td>4</td>\n",
       "      <td>0</td>\n",
       "      <td>0</td>\n",
       "      <td>0</td>\n",
       "      <td>0</td>\n",
       "      <td>0</td>\n",
       "      <td>0</td>\n",
       "      <td>0</td>\n",
       "      <td>0</td>\n",
       "      <td>0</td>\n",
       "      <td>...</td>\n",
       "      <td>0</td>\n",
       "      <td>0</td>\n",
       "      <td>0</td>\n",
       "      <td>0</td>\n",
       "      <td>0</td>\n",
       "      <td>0</td>\n",
       "      <td>0</td>\n",
       "      <td>0</td>\n",
       "      <td>0</td>\n",
       "      <td>0</td>\n",
       "    </tr>\n",
       "  </tbody>\n",
       "</table>\n",
       "<p>3 rows × 785 columns</p>\n",
       "</div>"
      ],
      "text/plain": [
       "   label  1x1  1x2  1x3  1x4  1x5  1x6  1x7  1x8  1x9  ...  28x19  28x20  \\\n",
       "0      5    0    0    0    0    0    0    0    0    0  ...      0      0   \n",
       "1      0    0    0    0    0    0    0    0    0    0  ...      0      0   \n",
       "2      4    0    0    0    0    0    0    0    0    0  ...      0      0   \n",
       "\n",
       "   28x21  28x22  28x23  28x24  28x25  28x26  28x27  28x28  \n",
       "0      0      0      0      0      0      0      0      0  \n",
       "1      0      0      0      0      0      0      0      0  \n",
       "2      0      0      0      0      0      0      0      0  \n",
       "\n",
       "[3 rows x 785 columns]"
      ]
     },
     "execution_count": 7,
     "metadata": {},
     "output_type": "execute_result"
    }
   ],
   "source": [
    "data.head(3)"
   ]
  },
  {
   "cell_type": "code",
   "execution_count": 8,
   "metadata": {},
   "outputs": [],
   "source": [
    "data=np.array(data)\n",
    "#data=np.asfarray(data) # converting the datatype from int to float\n",
    "m,n=data.shape\n",
    "np.random.shuffle(data) "
   ]
  },
  {
   "cell_type": "code",
   "execution_count": 9,
   "metadata": {},
   "outputs": [
    {
     "name": "stdout",
     "output_type": "stream",
     "text": [
      "60000 785\n"
     ]
    }
   ],
   "source": [
    "print(m,n)"
   ]
  },
  {
   "cell_type": "markdown",
   "metadata": {},
   "source": [
    "So, the train dataset contains 60000 examples. where each row represents a training example. Now we will split the dataset into train , validation set. Moreover, for convenience we will transpose the dataset so that each column represents a trainign example\n"
   ]
  },
  {
   "cell_type": "code",
   "execution_count": 10,
   "metadata": {},
   "outputs": [],
   "source": [
    "#validation set\n",
    "data_val=data[:1000].T\n",
    "X_val=data_val[1:n] #discarding 0 column which contains labels\n",
    "X_val=np.asfarray(X_val)\n",
    "X_val/=255.0 # normalize data to train faster\n",
    "Y_val=data_val[0]\n",
    "\n",
    "#training set\n",
    "data_train=data[1000:m].T\n",
    "X_train=data_train[1:n]\n",
    "X_train=np.asfarray(X_train)\n",
    "Y_train=data_train[0]\n",
    "X_train/=255\n",
    "\n"
   ]
  },
  {
   "cell_type": "code",
   "execution_count": 11,
   "metadata": {},
   "outputs": [
    {
     "name": "stdout",
     "output_type": "stream",
     "text": [
      "(784, 59000)\n",
      "(59000,)\n",
      "[[0. 0.]\n",
      " [0. 0.]\n",
      " [0. 0.]\n",
      " ...\n",
      " [0. 0.]\n",
      " [0. 0.]\n",
      " [0. 0.]]\n",
      "[9 5]\n"
     ]
    }
   ],
   "source": [
    "print(X_train.shape)\n",
    "print(Y_train.shape)\n",
    "print(X_train[:,:2]) #frist 2 training example\n",
    "print(Y_train[:2]) #first 2 labels"
   ]
  },
  {
   "cell_type": "markdown",
   "metadata": {},
   "source": [
    "we have our different dataset. we can now perform out training part. But for this we need to initialize our weights and biases."
   ]
  },
  {
   "cell_type": "code",
   "execution_count": 12,
   "metadata": {},
   "outputs": [],
   "source": [
    "def init_params():\n",
    "    W1 = np.random.rand(16, 784) - 0.5\n",
    "    b1 = np.random.rand(16, 1) - 0.5\n",
    "    W2 = np.random.rand(10, 16) - 0.5\n",
    "    b2 = np.random.rand(10, 1) - 0.5\n",
    "\n",
    "    # W3 = np.random.rand(10, 16) - 0.5\n",
    "    # b3 = np.random.rand(10, 1) - 0.5\n",
    "\n",
    "    return W1, b1, W2, b2"
   ]
  },
  {
   "cell_type": "markdown",
   "metadata": {},
   "source": [
    "we use ReLU for activation in layers except output layer and softmax functions in the output layer."
   ]
  },
  {
   "cell_type": "code",
   "execution_count": 13,
   "metadata": {},
   "outputs": [],
   "source": [
    "def ReLU(Z):\n",
    "    return np.maximum(Z, 0)"
   ]
  },
  {
   "cell_type": "code",
   "execution_count": 14,
   "metadata": {},
   "outputs": [],
   "source": [
    "def softmax(Z):\n",
    "    A = np.exp(Z) / sum(np.exp(Z))\n",
    "    return A"
   ]
  },
  {
   "cell_type": "code",
   "execution_count": 15,
   "metadata": {},
   "outputs": [],
   "source": [
    "def ReLU_deriv(Z):\n",
    "    return Z > 0"
   ]
  },
  {
   "cell_type": "markdown",
   "metadata": {},
   "source": [
    "### Forward propagation\n",
    "We are ready for forward pass"
   ]
  },
  {
   "cell_type": "code",
   "execution_count": 16,
   "metadata": {},
   "outputs": [],
   "source": [
    "def forward_prop (W1, b1, W2, b2, X):\n",
    "    Z1 = np.dot(W1,X)+ b1\n",
    "    A1 = ReLU(Z1)\n",
    "    Z2 = np.dot(W2,A1) + b2\n",
    "    A2 = softmax(Z2)\n",
    "    # Z3 = np.dot(W3,A2) + b3\n",
    "    # A3 = softmax(Z3)\n",
    "    return Z1, A1, Z2, A2"
   ]
  },
  {
   "cell_type": "code",
   "execution_count": 17,
   "metadata": {},
   "outputs": [
    {
     "name": "stdout",
     "output_type": "stream",
     "text": [
      "[9 5 1 1 5 8 6 2 9 1]\n"
     ]
    }
   ],
   "source": [
    "print(Y_train[:10])"
   ]
  },
  {
   "cell_type": "markdown",
   "metadata": {},
   "source": [
    "Notice here that the y contains the index of true labels for each examples. For conveniece we can use One-hot-encoding. In this process we will put 1 at the true label positions and 0 at other positons."
   ]
  },
  {
   "cell_type": "code",
   "execution_count": 18,
   "metadata": {},
   "outputs": [],
   "source": [
    "def one_hot(Y):\n",
    "    one_hot_Y = np.zeros((Y.size, Y.max() + 1))  #each column represents labels, row one example\n",
    "    one_hot_Y[np.arange(Y.size), Y] = 1.0 #sets 1 at the actural label position\n",
    "    one_hot_Y = one_hot_Y.T\n",
    "    return one_hot_Y"
   ]
  },
  {
   "cell_type": "code",
   "execution_count": 19,
   "metadata": {},
   "outputs": [
    {
     "name": "stdout",
     "output_type": "stream",
     "text": [
      "(10, 59000)\n"
     ]
    }
   ],
   "source": [
    "print(one_hot(Y_train).shape)"
   ]
  },
  {
   "cell_type": "code",
   "execution_count": 20,
   "metadata": {},
   "outputs": [
    {
     "name": "stdout",
     "output_type": "stream",
     "text": [
      "[[0. 0. 0. ... 0. 1. 0.]\n",
      " [0. 0. 1. ... 0. 0. 0.]\n",
      " [0. 0. 0. ... 0. 0. 0.]\n",
      " ...\n",
      " [0. 0. 0. ... 0. 0. 0.]\n",
      " [0. 0. 0. ... 0. 0. 1.]\n",
      " [1. 0. 0. ... 0. 0. 0.]]\n"
     ]
    }
   ],
   "source": [
    "print(one_hot(Y_train))\n"
   ]
  },
  {
   "cell_type": "code",
   "execution_count": 21,
   "metadata": {},
   "outputs": [],
   "source": [
    "def backward_prop(Z1, A1, Z2, A2, W1, W2, X, Y):\n",
    "    one_hot_Y = one_hot(Y)\n",
    "    dZ2 = A2 - one_hot_Y\n",
    "    dW2 = 1 / m * dZ2.dot(A1.T)\n",
    "    db2 = 1 / m * np.sum(dZ2)\n",
    "    dZ1 = W2.T.dot(dZ2) * ReLU_deriv(Z1)\n",
    "    dW1 = 1 / m * dZ1.dot(X.T)\n",
    "    db1 = 1 / m * np.sum(dZ1)\n",
    "    return dW1, db1, dW2, db2"
   ]
  },
  {
   "cell_type": "code",
   "execution_count": 22,
   "metadata": {},
   "outputs": [],
   "source": [
    "def update_params(W1, b1, W2, b2,dW1, db1, dW2, db2, alpha):\n",
    "    W1 = W1 - alpha * dW1\n",
    "    b1 = b1 - alpha * db1    \n",
    "    W2 = W2 - alpha * dW2  \n",
    "    b2 = b2 - alpha * db2    \n",
    "\n",
    "    # W3 = W3 - alpha * dW3\n",
    "    # b3 = b3 - alpha * db3 \n",
    "    return W1, b1, W2, b2"
   ]
  },
  {
   "cell_type": "code",
   "execution_count": 23,
   "metadata": {},
   "outputs": [],
   "source": [
    "def get_predictions(A2):\n",
    "    return np.argmax(A2, 0)"
   ]
  },
  {
   "cell_type": "code",
   "execution_count": 24,
   "metadata": {},
   "outputs": [],
   "source": [
    "def get_accuracy(predictions, Y):\n",
    "    print(predictions, Y)\n",
    "    acc=np.sum(predictions == Y) / Y.size\n",
    "    return acc*100"
   ]
  },
  {
   "cell_type": "code",
   "execution_count": 25,
   "metadata": {},
   "outputs": [],
   "source": [
    "def gradient_descent(X, Y, alpha, iterations):\n",
    "    W1, b1, W2, b2= init_params()\n",
    "    for i in range(iterations):\n",
    "        Z1, A1, Z2, A2= forward_prop(W1, b1, W2, b2, X)\n",
    "        dW1, db1, dW2, db2= backward_prop(Z1, A1, Z2, A2, W1, W2, X, Y)\n",
    "        W1, b1, W2, b2 = update_params(W1, b1, W2, b2, dW1, db1, dW2, db2, alpha)\n",
    "        if i % 10 == 0:\n",
    "            print(\"Iteration: \", i)\n",
    "            predictions = get_predictions(A2)\n",
    "            print(get_accuracy(predictions, Y))\n",
    "    return W1, b1, W2, b2"
   ]
  },
  {
   "cell_type": "code",
   "execution_count": 26,
   "metadata": {},
   "outputs": [
    {
     "name": "stdout",
     "output_type": "stream",
     "text": [
      "Iteration:  0\n",
      "[9 2 9 ... 9 9 9] [9 5 1 ... 6 0 8]\n",
      "9.742372881355932\n",
      "Iteration:  10\n",
      "[5 2 6 ... 5 6 4] [9 5 1 ... 6 0 8]\n",
      "17.05593220338983\n",
      "Iteration:  20\n",
      "[4 4 6 ... 5 6 4] [9 5 1 ... 6 0 8]\n",
      "23.572881355932203\n",
      "Iteration:  30\n",
      "[4 4 6 ... 5 6 4] [9 5 1 ... 6 0 8]\n",
      "30.230508474576272\n",
      "Iteration:  40\n",
      "[4 4 6 ... 5 6 4] [9 5 1 ... 6 0 8]\n",
      "37.33050847457628\n",
      "Iteration:  50\n",
      "[5 4 6 ... 5 6 4] [9 5 1 ... 6 0 8]\n",
      "43.003389830508475\n",
      "Iteration:  60\n",
      "[5 4 6 ... 5 0 4] [9 5 1 ... 6 0 8]\n",
      "47.588135593220336\n",
      "Iteration:  70\n",
      "[5 4 6 ... 6 0 4] [9 5 1 ... 6 0 8]\n",
      "52.42203389830509\n",
      "Iteration:  80\n",
      "[5 3 6 ... 6 0 4] [9 5 1 ... 6 0 8]\n",
      "60.67796610169491\n",
      "Iteration:  90\n",
      "[9 3 1 ... 6 0 3] [9 5 1 ... 6 0 8]\n",
      "65.06101694915255\n",
      "Iteration:  100\n",
      "[9 3 1 ... 6 0 3] [9 5 1 ... 6 0 8]\n",
      "67.4728813559322\n",
      "Iteration:  110\n",
      "[9 3 1 ... 6 0 3] [9 5 1 ... 6 0 8]\n",
      "69.4593220338983\n",
      "Iteration:  120\n",
      "[9 3 1 ... 6 0 3] [9 5 1 ... 6 0 8]\n",
      "71.07796610169491\n",
      "Iteration:  130\n",
      "[9 3 1 ... 6 0 3] [9 5 1 ... 6 0 8]\n",
      "72.50508474576272\n",
      "Iteration:  140\n",
      "[9 3 1 ... 6 0 8] [9 5 1 ... 6 0 8]\n",
      "73.81016949152543\n",
      "Iteration:  150\n",
      "[9 3 1 ... 6 0 8] [9 5 1 ... 6 0 8]\n",
      "74.99322033898305\n",
      "Iteration:  160\n",
      "[9 3 1 ... 6 0 8] [9 5 1 ... 6 0 8]\n",
      "75.93728813559322\n",
      "Iteration:  170\n",
      "[9 5 1 ... 6 0 8] [9 5 1 ... 6 0 8]\n",
      "76.82542372881356\n",
      "Iteration:  180\n",
      "[9 5 1 ... 6 0 8] [9 5 1 ... 6 0 8]\n",
      "77.64067796610169\n",
      "Iteration:  190\n",
      "[9 5 1 ... 6 0 8] [9 5 1 ... 6 0 8]\n",
      "78.31186440677966\n",
      "Iteration:  200\n",
      "[9 5 1 ... 6 0 8] [9 5 1 ... 6 0 8]\n",
      "78.92542372881356\n",
      "Iteration:  210\n",
      "[9 5 1 ... 6 0 8] [9 5 1 ... 6 0 8]\n",
      "79.42881355932204\n",
      "Iteration:  220\n",
      "[9 5 1 ... 6 0 8] [9 5 1 ... 6 0 8]\n",
      "79.95423728813559\n",
      "Iteration:  230\n",
      "[9 5 1 ... 6 0 8] [9 5 1 ... 6 0 8]\n",
      "80.49152542372882\n",
      "Iteration:  240\n",
      "[9 5 1 ... 6 0 8] [9 5 1 ... 6 0 8]\n",
      "80.93898305084745\n",
      "Iteration:  250\n",
      "[9 5 1 ... 6 0 8] [9 5 1 ... 6 0 8]\n",
      "81.32881355932203\n",
      "Iteration:  260\n",
      "[9 5 1 ... 6 0 8] [9 5 1 ... 6 0 8]\n",
      "81.6728813559322\n",
      "Iteration:  270\n",
      "[9 5 1 ... 6 0 8] [9 5 1 ... 6 0 8]\n",
      "82.00169491525425\n",
      "Iteration:  280\n",
      "[9 5 1 ... 6 0 8] [9 5 1 ... 6 0 8]\n",
      "82.30338983050848\n",
      "Iteration:  290\n",
      "[9 5 1 ... 6 0 8] [9 5 1 ... 6 0 8]\n",
      "82.58305084745763\n",
      "Iteration:  300\n",
      "[9 5 1 ... 6 0 8] [9 5 1 ... 6 0 8]\n",
      "82.84745762711864\n",
      "Iteration:  310\n",
      "[9 5 1 ... 6 0 8] [9 5 1 ... 6 0 8]\n",
      "83.0813559322034\n",
      "Iteration:  320\n",
      "[9 5 1 ... 6 0 8] [9 5 1 ... 6 0 8]\n",
      "83.36610169491524\n",
      "Iteration:  330\n",
      "[9 5 1 ... 6 0 8] [9 5 1 ... 6 0 8]\n",
      "83.57796610169491\n",
      "Iteration:  340\n",
      "[9 5 1 ... 6 0 8] [9 5 1 ... 6 0 8]\n",
      "83.77627118644068\n",
      "Iteration:  350\n",
      "[9 5 1 ... 6 0 8] [9 5 1 ... 6 0 8]\n",
      "84.0\n",
      "Iteration:  360\n",
      "[9 5 1 ... 6 0 8] [9 5 1 ... 6 0 8]\n",
      "84.23559322033898\n",
      "Iteration:  370\n",
      "[9 5 1 ... 6 0 8] [9 5 1 ... 6 0 8]\n",
      "84.41694915254237\n",
      "Iteration:  380\n",
      "[9 5 1 ... 6 0 8] [9 5 1 ... 6 0 8]\n",
      "84.55254237288136\n",
      "Iteration:  390\n",
      "[9 5 1 ... 6 0 8] [9 5 1 ... 6 0 8]\n",
      "84.73050847457627\n",
      "Iteration:  400\n",
      "[9 5 1 ... 6 0 8] [9 5 1 ... 6 0 8]\n",
      "84.89491525423729\n",
      "Iteration:  410\n",
      "[9 5 1 ... 6 0 8] [9 5 1 ... 6 0 8]\n",
      "85.0406779661017\n",
      "Iteration:  420\n",
      "[9 5 1 ... 6 0 8] [9 5 1 ... 6 0 8]\n",
      "85.17457627118644\n",
      "Iteration:  430\n",
      "[9 5 1 ... 6 0 8] [9 5 1 ... 6 0 8]\n",
      "85.30338983050846\n",
      "Iteration:  440\n",
      "[9 5 1 ... 6 0 8] [9 5 1 ... 6 0 8]\n",
      "85.46271186440678\n",
      "Iteration:  450\n",
      "[9 5 1 ... 6 0 8] [9 5 1 ... 6 0 8]\n",
      "85.57118644067798\n",
      "Iteration:  460\n",
      "[9 5 1 ... 6 0 8] [9 5 1 ... 6 0 8]\n",
      "85.69830508474577\n",
      "Iteration:  470\n",
      "[9 5 1 ... 6 0 8] [9 5 1 ... 6 0 8]\n",
      "85.81694915254238\n",
      "Iteration:  480\n",
      "[9 5 1 ... 6 0 8] [9 5 1 ... 6 0 8]\n",
      "85.92203389830509\n",
      "Iteration:  490\n",
      "[9 5 1 ... 6 0 8] [9 5 1 ... 6 0 8]\n",
      "86.06101694915255\n"
     ]
    }
   ],
   "source": [
    "W1, b1, W2, b2= gradient_descent(X_train, Y_train, 0.10, 500)"
   ]
  },
  {
   "cell_type": "code",
   "execution_count": 27,
   "metadata": {},
   "outputs": [],
   "source": [
    "def make_predictions(X, W1, b1, W2, b2):\n",
    "    _, _, _, A2 = forward_prop(W1, b1, W2, b2, X)\n",
    "    predictions = get_predictions(A2)\n",
    "    return predictions"
   ]
  },
  {
   "cell_type": "code",
   "execution_count": 28,
   "metadata": {},
   "outputs": [],
   "source": [
    "def test_prediction(index, W1, b1, W2, b2,):\n",
    "    current_image = X_train[:, index, None]\n",
    "    prediction = make_predictions(X_train[:, index, None], W1, b1, W2, b2)\n",
    "    label = Y_train[index]\n",
    "    print(\"Prediction: \", prediction)\n",
    "    print(\"Label: \", label)\n",
    "    \n",
    "    current_image = current_image.reshape((28, 28)) * 255\n",
    "    plt.gray()\n",
    "    plt.imshow(current_image, interpolation='nearest')\n",
    "    plt.show()"
   ]
  },
  {
   "cell_type": "markdown",
   "metadata": {},
   "source": [
    "let's look at couple of examples\n"
   ]
  },
  {
   "cell_type": "code",
   "execution_count": 29,
   "metadata": {},
   "outputs": [
    {
     "name": "stdout",
     "output_type": "stream",
     "text": [
      "Prediction:  [9]\n",
      "Label:  9\n"
     ]
    },
    {
     "data": {
      "image/png": "[encoded data removed]",
      "text/plain": [
       "<Figure size 640x480 with 1 Axes>"
      ]
     },
     "metadata": {},
     "output_type": "display_data"
    },
    {
     "name": "stdout",
     "output_type": "stream",
     "text": [
      "Prediction:  [5]\n",
      "Label:  5\n"
     ]
    },
    {
     "data": {
      "image/png": "[encoded data removed]",
      "text/plain": [
       "<Figure size 640x480 with 1 Axes>"
      ]
     },
     "metadata": {},
     "output_type": "display_data"
    },
    {
     "name": "stdout",
     "output_type": "stream",
     "text": [
      "Prediction:  [1]\n",
      "Label:  1\n"
     ]
    },
    {
     "data": {
      "image/png": "[encoded data removed]",
      "text/plain": [
       "<Figure size 640x480 with 1 Axes>"
      ]
     },
     "metadata": {},
     "output_type": "display_data"
    },
    {
     "name": "stdout",
     "output_type": "stream",
     "text": [
      "Prediction:  [1]\n",
      "Label:  1\n"
     ]
    },
    {
     "data": {
      "image/png": "[encoded data removed]",
      "text/plain": [
       "<Figure size 640x480 with 1 Axes>"
      ]
     },
     "metadata": {},
     "output_type": "display_data"
    },
    {
     "name": "stdout",
     "output_type": "stream",
     "text": [
      "Prediction:  [2]\n",
      "Label:  5\n"
     ]
    },
    {
     "data": {
      "image/png": "[encoded data removed]",
      "text/plain": [
       "<Figure size 640x480 with 1 Axes>"
      ]
     },
     "metadata": {},
     "output_type": "display_data"
    },
    {
     "name": "stdout",
     "output_type": "stream",
     "text": [
      "Prediction:  [8]\n",
      "Label:  8\n"
     ]
    },
    {
     "data": {
      "image/png": "[encoded data removed]",
      "text/plain": [
       "<Figure size 640x480 with 1 Axes>"
      ]
     },
     "metadata": {},
     "output_type": "display_data"
    },
    {
     "name": "stdout",
     "output_type": "stream",
     "text": [
      "Prediction:  [6]\n",
      "Label:  6\n"
     ]
    },
    {
     "data": {
      "image/png": "[encoded data removed]",
      "text/plain": [
       "<Figure size 640x480 with 1 Axes>"
      ]
     },
     "metadata": {},
     "output_type": "display_data"
    },
    {
     "name": "stdout",
     "output_type": "stream",
     "text": [
      "Prediction:  [2]\n",
      "Label:  2\n"
     ]
    },
    {
     "data": {
      "image/png": "[encoded data removed]",
      "text/plain": [
       "<Figure size 640x480 with 1 Axes>"
      ]
     },
     "metadata": {},
     "output_type": "display_data"
    },
    {
     "name": "stdout",
     "output_type": "stream",
     "text": [
      "Prediction:  [9]\n",
      "Label:  9\n"
     ]
    },
    {
     "data": {
      "image/png": "[encoded data removed]",
      "text/plain": [
       "<Figure size 640x480 with 1 Axes>"
      ]
     },
     "metadata": {},
     "output_type": "display_data"
    },
    {
     "name": "stdout",
     "output_type": "stream",
     "text": [
      "Prediction:  [1]\n",
      "Label:  1\n"
     ]
    },
    {
     "data": {
      "image/png": "[encoded data removed]",
      "text/plain": [
       "<Figure size 640x480 with 1 Axes>"
      ]
     },
     "metadata": {},
     "output_type": "display_data"
    }
   ],
   "source": [
    "for i in range (10):\n",
    "    test_prediction(i, W1, b1, W2, b2)\n",
    "\n",
    "# test_prediction(0, W1, b1, W2, b2,W3,b3)\n",
    "# test_prediction(1, W1, b1, W2, b2,W3,b3)\n",
    "# test_prediction(2, W1, b1, W2, b2,W3,b3)\n",
    "# test_prediction(3, W1, b1, W2, b2,W3,b3)"
   ]
  },
  {
   "cell_type": "markdown",
   "metadata": {},
   "source": [
    "let's find the accuracy on validation set"
   ]
  },
  {
   "cell_type": "code",
   "execution_count": 30,
   "metadata": {},
   "outputs": [
    {
     "name": "stdout",
     "output_type": "stream",
     "text": [
      "[1 7 0 0 7 8 3 2 2 1 9 0 8 7 2 8 1 0 6 1 2 9 5 5 0 7 7 8 8 7 1 0 8 0 8 8 3\n",
      " 6 3 5 3 6 5 3 4 8 4 0 1 2 0 1 0 8 0 6 1 7 9 0 5 8 6 1 9 4 8 3 2 0 6 0 8 6\n",
      " 6 5 7 6 7 1 5 0 3 5 4 9 1 5 4 5 6 7 8 9 1 6 0 9 9 0 2 8 9 2 1 3 7 5 8 9 4\n",
      " 5 0 8 6 4 0 7 7 8 1 4 8 2 2 7 4 4 9 5 1 4 0 8 7 6 9 7 0 3 3 0 9 6 6 0 9 3\n",
      " 3 1 6 3 0 1 7 9 1 5 4 4 2 1 4 1 3 7 2 4 4 2 7 3 3 2 5 9 9 1 3 4 7 0 2 1 8\n",
      " 4 0 9 7 3 2 7 6 0 1 4 6 1 5 9 1 3 7 8 3 5 8 5 9 7 7 2 0 1 3 7 5 6 3 9 6 1\n",
      " 3 1 8 6 8 5 7 7 9 7 8 1 2 2 2 4 8 4 4 1 4 1 6 7 1 8 5 0 2 5 0 7 0 0 1 6 8\n",
      " 3 6 9 9 1 2 1 4 0 8 9 8 8 5 9 1 0 3 2 1 7 9 9 7 0 9 9 3 4 4 5 7 7 7 2 8 5\n",
      " 3 2 0 4 8 6 0 1 1 9 0 3 6 7 0 9 2 3 7 2 6 4 7 7 5 3 8 1 7 0 7 3 7 1 9 3 9\n",
      " 3 5 4 6 0 5 1 6 0 3 6 0 7 1 0 9 3 3 7 7 3 7 7 5 8 2 5 9 1 2 0 8 9 7 6 3 4\n",
      " 6 4 7 8 7 9 2 6 2 3 6 3 2 1 3 0 5 6 4 5 2 3 7 3 6 7 1 0 0 3 0 7 0 7 6 9 2\n",
      " 2 2 0 1 4 8 1 7 5 1 2 5 0 8 9 5 2 6 1 1 1 0 5 2 9 3 3 6 9 1 8 0 8 7 5 7 6\n",
      " 4 2 6 0 3 1 4 4 6 8 9 5 9 4 3 1 2 9 7 4 8 2 3 7 0 7 8 4 4 6 6 3 6 5 1 8 3\n",
      " 7 4 9 8 0 4 0 5 7 0 8 1 6 3 0 3 8 4 8 9 5 5 8 1 6 8 7 6 0 9 3 7 4 1 6 3 3\n",
      " 1 3 6 2 3 3 4 3 1 3 4 9 7 0 5 5 1 0 7 2 5 1 1 7 0 6 8 3 2 0 6 8 2 1 6 3 3\n",
      " 6 9 5 6 8 5 3 8 3 3 1 6 1 8 1 6 0 2 0 4 4 6 4 4 1 6 8 5 8 0 1 6 4 6 9 5 2\n",
      " 0 4 3 6 8 7 5 6 9 3 8 8 2 0 0 1 2 5 8 1 7 8 9 8 7 7 9 3 1 1 6 6 4 3 4 0 2\n",
      " 9 7 4 6 1 3 7 7 7 7 5 3 0 4 0 3 3 4 2 2 0 8 5 0 1 0 1 3 6 9 7 4 0 1 3 1 4\n",
      " 7 8 5 0 9 2 1 0 9 5 5 3 2 3 7 5 1 1 4 8 4 6 4 6 3 4 5 1 8 8 3 9 3 8 7 3 4\n",
      " 7 8 1 5 0 2 3 9 7 3 6 3 9 9 5 7 3 8 5 7 1 2 9 7 3 8 4 4 1 1 5 5 7 7 4 9 2\n",
      " 3 3 1 6 6 6 7 1 2 1 1 9 4 2 7 2 7 8 4 8 7 6 4 0 0 5 1 8 2 4 0 7 3 8 5 2 1\n",
      " 7 0 9 2 4 2 2 7 0 9 8 4 4 6 3 1 9 4 2 5 1 4 0 9 7 9 7 3 4 3 7 9 8 2 5 4 2\n",
      " 8 9 0 3 1 2 8 2 9 8 8 9 1 7 7 2 3 3 9 8 1 3 4 8 4 3 0 6 0 7 4 4 4 6 6 0 8\n",
      " 7 9 8 7 5 2 5 1 4 8 7 1 5 0 7 1 8 0 4 8 4 0 8 7 3 8 6 7 3 3 4 1 8 3 5 0 4\n",
      " 0 7 1 2 6 1 1 0 1 8 8 4 5 8 2 9 2 1 8 7 6 5 5 7 4 4 9 2 5 4 0 7 3 9 7 2 8\n",
      " 3 6 6 0 0 8 8 1 8 4 8 3 0 4 9 6 1 8 5 6 7 3 8 8 3 0 4 6 7 7 2 9 0 7 5 9 0\n",
      " 4 0 0 3 4 9 3 7 2 8 8 0 8 4 2 1 3 4 4 8 9 3 6 2 9 1 0 0 8 4 4 3 4 3 8 9 8\n",
      " 2] [1 7 0 0 2 8 3 8 2 1 9 0 8 7 2 8 1 0 6 1 2 9 5 5 0 4 7 8 8 7 1 0 8 0 8 8 3\n",
      " 6 3 5 3 6 5 3 4 8 4 0 1 8 0 1 0 8 0 6 1 7 9 0 3 8 0 1 9 4 1 3 8 0 6 0 5 6\n",
      " 6 5 7 6 7 1 5 0 3 5 4 4 1 5 4 8 6 7 8 9 1 6 0 9 9 0 6 1 8 3 1 3 7 5 8 9 8\n",
      " 5 0 8 5 4 0 7 7 8 1 4 8 2 2 7 4 9 9 5 1 4 0 8 7 6 9 7 0 3 5 6 9 6 6 0 5 3\n",
      " 3 1 6 3 0 1 7 9 1 5 4 4 2 1 4 1 3 7 2 4 4 2 7 3 3 2 5 9 9 1 3 4 7 6 2 1 8\n",
      " 4 0 9 7 2 2 9 6 0 1 4 6 1 5 9 1 3 7 8 1 8 8 5 9 7 7 2 0 1 3 9 5 6 5 5 6 1\n",
      " 8 1 8 6 8 3 7 7 4 7 8 1 2 2 2 4 8 4 4 1 4 1 6 7 1 8 5 0 2 5 0 7 0 0 1 5 8\n",
      " 0 2 7 9 1 8 1 4 0 8 9 8 8 5 9 1 0 5 3 1 7 9 9 7 0 9 9 3 8 2 5 7 7 7 2 8 3\n",
      " 3 2 0 4 6 6 0 1 1 9 0 3 6 7 0 9 2 3 7 2 6 4 7 7 5 3 8 1 7 0 7 3 9 6 9 3 9\n",
      " 3 5 4 6 0 5 1 6 0 3 6 0 7 1 0 9 3 3 7 7 9 7 7 5 5 2 5 9 1 2 0 8 9 7 6 3 4\n",
      " 8 4 7 8 7 9 2 6 2 3 6 3 2 1 3 0 5 5 4 5 2 3 7 3 6 7 1 0 0 2 0 7 0 7 6 8 2\n",
      " 2 2 0 1 4 8 1 7 3 1 7 5 0 8 9 8 2 6 1 1 1 0 5 2 9 3 2 6 9 8 8 0 8 7 5 7 6\n",
      " 4 2 6 0 0 1 4 2 6 8 9 5 4 9 3 1 2 9 7 4 8 2 3 7 0 7 4 4 4 6 6 3 6 5 1 3 3\n",
      " 7 4 9 8 0 4 0 3 7 0 8 1 6 3 0 3 8 4 8 9 5 0 8 1 6 8 7 6 0 9 3 7 9 1 6 3 3\n",
      " 1 9 6 2 8 2 4 3 1 3 4 9 7 0 5 5 1 0 7 2 5 1 1 7 0 6 8 3 2 0 6 8 2 1 6 3 3\n",
      " 6 4 5 6 8 6 2 8 3 3 2 6 1 6 1 6 0 6 0 4 4 6 4 4 1 5 8 5 8 0 1 6 4 6 9 5 9\n",
      " 0 4 8 6 8 7 5 6 9 3 8 8 3 0 0 6 2 3 8 1 7 8 9 8 7 7 9 8 1 1 6 6 4 3 4 0 2\n",
      " 9 7 4 6 1 3 7 7 7 7 5 3 0 4 0 3 3 4 2 2 0 8 5 0 1 0 1 3 6 9 7 4 0 1 3 1 4\n",
      " 7 8 5 0 9 2 1 0 9 5 8 3 2 5 1 5 1 1 4 8 4 6 4 6 3 4 5 1 8 8 3 9 3 8 7 5 4\n",
      " 7 8 1 1 0 2 8 9 7 3 4 3 4 9 5 7 5 5 5 7 1 1 8 7 3 8 4 4 1 1 5 5 7 7 4 5 2\n",
      " 2 9 1 6 6 6 7 1 2 1 1 7 4 2 7 2 2 5 4 8 7 4 4 0 0 5 1 8 2 4 0 7 3 5 5 2 1\n",
      " 7 0 9 2 4 9 3 7 5 4 8 9 4 6 3 4 9 4 2 5 1 4 0 4 7 9 7 3 5 3 7 9 8 8 5 7 8\n",
      " 8 9 0 3 1 2 8 2 9 8 8 9 1 7 7 2 3 3 3 8 1 3 4 3 4 3 0 6 0 7 6 4 4 6 4 0 5\n",
      " 7 9 8 8 5 5 5 1 4 8 2 8 5 0 7 1 5 0 4 8 4 0 8 7 3 5 6 7 3 3 4 1 8 3 5 0 4\n",
      " 0 7 1 2 8 1 1 0 1 8 8 9 3 8 2 9 2 1 8 7 6 5 5 7 4 4 9 2 5 4 0 7 3 9 7 2 8\n",
      " 5 6 6 0 0 8 3 1 8 4 8 3 0 2 8 6 1 8 5 6 7 3 8 8 3 0 4 6 7 7 2 9 0 7 5 9 0\n",
      " 4 0 0 3 4 7 3 7 2 8 8 0 8 4 2 1 2 4 9 2 9 2 6 2 9 8 0 0 8 4 4 3 4 3 8 9 8\n",
      " 2]\n"
     ]
    },
    {
     "data": {
      "text/plain": [
       "86.4"
      ]
     },
     "execution_count": 30,
     "metadata": {},
     "output_type": "execute_result"
    }
   ],
   "source": [
    "val_predictions = make_predictions(X_val, W1, b1, W2, b2)\n",
    "get_accuracy(val_predictions, Y_val)"
   ]
  }
 ],
 "metadata": {
  "kernelspec": {
   "display_name": "Python 3",
   "language": "python",
   "name": "python3"
  },
  "language_info": {
   "codemirror_mode": {
    "name": "ipython",
    "version": 3
   },
   "file_extension": ".py",
   "mimetype": "text/x-python",
   "name": "python",
   "nbconvert_exporter": "python",
   "pygments_lexer": "ipython3",
   "version": "3.11.3"
  },
  "orig_nbformat": 4
 },
 "nbformat": 4,
 "nbformat_minor": 2
}
